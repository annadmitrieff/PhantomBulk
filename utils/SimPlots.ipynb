{
 "cells": [
  {
   "cell_type": "code",
   "execution_count": 18,
   "metadata": {},
   "outputs": [],
   "source": [
    "import pandas as pd\n",
    "import plotly.express as px\n",
    "import json\n",
    "import io"
   ]
  },
  {
   "cell_type": "code",
   "execution_count": 19,
   "metadata": {},
   "outputs": [],
   "source": [
    "# Data in CSV format\n",
    "df = pd.read_csv('/home/adm61595/runs/5_BulkSims/parameter_database.csv')"
   ]
  },
  {
   "cell_type": "code",
   "execution_count": 20,
   "metadata": {},
   "outputs": [],
   "source": [
    "# Convert planets from string to list of dictionaries, handling empty values and invalid JSON\n",
    "def safe_json_loads(x):\n",
    "    try:\n",
    "        # Only attempt to load JSON if x is not NaN and has a non-empty string\n",
    "        return json.loads(x.replace(\"'\", \"\\\"\")) if pd.notna(x) and x.strip() else []\n",
    "    except json.JSONDecodeError:\n",
    "        # Return empty list if JSON decoding fails\n",
    "        return []\n",
    "\n",
    "df['planets'] = df['planets'].apply(safe_json_loads)"
   ]
  },
  {
   "cell_type": "code",
   "execution_count": 25,
   "metadata": {},
   "outputs": [
    {
     "data": {
      "application/vnd.plotly.v1+json": {
       "config": {
        "plotlyServerURL": "https://plot.ly"
       },
       "data": [
        {
         "hovertemplate": "Stellar Mass [M☉]=%{x}<br>Disc Mass [M☉]=%{y}<extra></extra>",
         "legendgroup": "",
         "marker": {
          "color": "#636efa",
          "symbol": "circle"
         },
         "mode": "markers",
         "name": "",
         "orientation": "v",
         "showlegend": false,
         "type": "scatter",
         "x": [
          1.9112857515378487,
          1.1716059114463395,
          0.9274525789718592,
          1.0342892788410305,
          1.06252981299848,
          0.6819980158790016,
          0.2453481451266128,
          1.9821959229563584,
          0.4519772780991732,
          0.5578653096873254,
          1.9744465870105488,
          1.636396463394603,
          0.9737204055376798,
          0.4370771633714392,
          0.7425052323794465,
          1.0445194929669892,
          1.7004333973623262,
          1.1229498196290733,
          1.4191471267366538,
          0.9494290978335772,
          1.9560889434604016,
          0.4095251320983426,
          1.6141119572335587,
          0.3001495867916649,
          1.773301813650162,
          1.4864451210465626,
          0.436745402994278,
          1.575300061734389,
          1.3546048929584775,
          1.7039707026345658,
          0.7199320219969365,
          0.5524108523487288,
          0.2015917935277888,
          0.4596523654098647,
          0.7945166224857985,
          1.0427257635767209,
          0.6491393436550742,
          1.1413860984285549,
          1.3890008802821814,
          1.623001229772747,
          1.932595005190385,
          0.9688808740694136,
          0.7452236813762951,
          0.6902361436402301,
          1.549485511916237,
          1.5274576494181795,
          1.822719362841512,
          1.3398723400132897,
          0.5745950821946602,
          0.9562097395269992,
          1.098523561715239,
          1.1928666279527442,
          1.696951326790358,
          0.2696825150607189,
          2.9777844946911625,
          0.5844278875332486,
          1.1139934392141984,
          1.0869720920183077,
          1.811022961927632,
          1.9713074321592128,
          2.051525149871086,
          1.57343424524838,
          0.2564268363787247,
          1.310584737210037,
          0.9153208768396426,
          1.1055526318526414,
          0.9351434795065144,
          2.019474966698839,
          1.3232324380798817,
          0.7593646620496342,
          0.4633249298761767,
          0.7581713142217033,
          1.858294491048268,
          0.6897334808421487,
          1.7162646396842454,
          0.5540474690373127,
          0.8954576679016939,
          1.1704680141092287,
          1.910082429084724,
          0.6406982086307766,
          1.8963707371579,
          1.4237535345150332,
          1.8351962257833232,
          1.138872734628798,
          1.6875313126044182,
          2.334154624714532,
          0.5794400893380743,
          0.4480833741900825,
          0.884123393262384,
          1.626377297921402,
          0.2388285279442047,
          1.705244606304474,
          1.8517678872245185,
          0.4981561577615173,
          0.2697431581322599,
          0.8368992079944064,
          0.6081803630396005,
          1.1041684536766423
         ],
         "xaxis": "x",
         "y": [
          0.1854349989421645,
          0.0234048319561293,
          0.0048776026987275,
          0.0300069190900897,
          0.0396255728481055,
          0.0593246880117953,
          0.0107508665034749,
          0.0431383354573367,
          0.0054884298514845,
          0.0214851518872051,
          0.0662526362749502,
          0.0359583071429649,
          0.0282367976013366,
          0.0158378950615388,
          0.0067036408155354,
          0.0063058884541925,
          0.0330256650753856,
          0.0306952995902671,
          0.0152083056790505,
          0.0439448289764983,
          0.0530716457611638,
          0.0064630313348337,
          0.0724575269408536,
          0.0146680893977352,
          0.0835602150408957,
          0.0646438283947167,
          0.0391710597982204,
          0.0312950622417646,
          0.0352580776204454,
          0.0303396035463615,
          0.0130297254533065,
          0.0184481132432529,
          0.0067183555853983,
          0.0116308630981988,
          0.0151052985108298,
          0.0364732744867713,
          0.0313461171854656,
          0.045232548729399,
          0.0631711120161324,
          0.0753281410438003,
          0.0717034557552911,
          0.0134749435173513,
          0.012161240100485,
          0.0110530808364224,
          0.02056991757665,
          0.0746201167941996,
          0.0741717081449188,
          0.0504347134117819,
          0.0266554575939116,
          0.0142897681225241,
          0.0387138180779473,
          0.0264975112555542,
          0.0413739085002274,
          0.0099180610293947,
          0.1110707394457454,
          0.0177241621289394,
          0.0527400775222612,
          0.0257318011213816,
          0.0695773153717605,
          0.0466670479505054,
          0.089560529938027,
          0.0461196826910433,
          0.0032789662957065,
          0.0202202577279961,
          0.009914569100526,
          0.0220687256525964,
          0.0223744980580671,
          0.0698945356694769,
          0.0141533990848318,
          0.0283149136408506,
          0.0064663489149745,
          0.0244031889591767,
          0.0275781884572517,
          0.0244555254540155,
          0.0902887011526012,
          0.0087396133027721,
          0.041397525272496,
          0.0402551369478117,
          0.0671679566768715,
          0.0313008697666871,
          0.0236898809464622,
          0.0559362496085136,
          0.0278307567530449,
          0.0219955813596097,
          0.0214234747977969,
          0.0720421451401117,
          0.0248240885906567,
          0.0211338778632034,
          0.0249129026209874,
          0.0483120407725351,
          0.0022146448566816,
          0.0343954789265478,
          0.0693122302593419,
          0.0077643101670939,
          0.0066938710571021,
          0.022144099224889,
          0.022528654993736,
          0.0873306681151783
         ],
         "yaxis": "y"
        }
       ],
       "layout": {
        "font": {
         "size": 10
        },
        "height": 600,
        "legend": {
         "tracegroupgap": 0
        },
        "template": {
         "data": {
          "bar": [
           {
            "error_x": {
             "color": "#2a3f5f"
            },
            "error_y": {
             "color": "#2a3f5f"
            },
            "marker": {
             "line": {
              "color": "#E5ECF6",
              "width": 0.5
             },
             "pattern": {
              "fillmode": "overlay",
              "size": 10,
              "solidity": 0.2
             }
            },
            "type": "bar"
           }
          ],
          "barpolar": [
           {
            "marker": {
             "line": {
              "color": "#E5ECF6",
              "width": 0.5
             },
             "pattern": {
              "fillmode": "overlay",
              "size": 10,
              "solidity": 0.2
             }
            },
            "type": "barpolar"
           }
          ],
          "carpet": [
           {
            "aaxis": {
             "endlinecolor": "#2a3f5f",
             "gridcolor": "white",
             "linecolor": "white",
             "minorgridcolor": "white",
             "startlinecolor": "#2a3f5f"
            },
            "baxis": {
             "endlinecolor": "#2a3f5f",
             "gridcolor": "white",
             "linecolor": "white",
             "minorgridcolor": "white",
             "startlinecolor": "#2a3f5f"
            },
            "type": "carpet"
           }
          ],
          "choropleth": [
           {
            "colorbar": {
             "outlinewidth": 0,
             "ticks": ""
            },
            "type": "choropleth"
           }
          ],
          "contour": [
           {
            "colorbar": {
             "outlinewidth": 0,
             "ticks": ""
            },
            "colorscale": [
             [
              0,
              "#0d0887"
             ],
             [
              0.1111111111111111,
              "#46039f"
             ],
             [
              0.2222222222222222,
              "#7201a8"
             ],
             [
              0.3333333333333333,
              "#9c179e"
             ],
             [
              0.4444444444444444,
              "#bd3786"
             ],
             [
              0.5555555555555556,
              "#d8576b"
             ],
             [
              0.6666666666666666,
              "#ed7953"
             ],
             [
              0.7777777777777778,
              "#fb9f3a"
             ],
             [
              0.8888888888888888,
              "#fdca26"
             ],
             [
              1,
              "#f0f921"
             ]
            ],
            "type": "contour"
           }
          ],
          "contourcarpet": [
           {
            "colorbar": {
             "outlinewidth": 0,
             "ticks": ""
            },
            "type": "contourcarpet"
           }
          ],
          "heatmap": [
           {
            "colorbar": {
             "outlinewidth": 0,
             "ticks": ""
            },
            "colorscale": [
             [
              0,
              "#0d0887"
             ],
             [
              0.1111111111111111,
              "#46039f"
             ],
             [
              0.2222222222222222,
              "#7201a8"
             ],
             [
              0.3333333333333333,
              "#9c179e"
             ],
             [
              0.4444444444444444,
              "#bd3786"
             ],
             [
              0.5555555555555556,
              "#d8576b"
             ],
             [
              0.6666666666666666,
              "#ed7953"
             ],
             [
              0.7777777777777778,
              "#fb9f3a"
             ],
             [
              0.8888888888888888,
              "#fdca26"
             ],
             [
              1,
              "#f0f921"
             ]
            ],
            "type": "heatmap"
           }
          ],
          "heatmapgl": [
           {
            "colorbar": {
             "outlinewidth": 0,
             "ticks": ""
            },
            "colorscale": [
             [
              0,
              "#0d0887"
             ],
             [
              0.1111111111111111,
              "#46039f"
             ],
             [
              0.2222222222222222,
              "#7201a8"
             ],
             [
              0.3333333333333333,
              "#9c179e"
             ],
             [
              0.4444444444444444,
              "#bd3786"
             ],
             [
              0.5555555555555556,
              "#d8576b"
             ],
             [
              0.6666666666666666,
              "#ed7953"
             ],
             [
              0.7777777777777778,
              "#fb9f3a"
             ],
             [
              0.8888888888888888,
              "#fdca26"
             ],
             [
              1,
              "#f0f921"
             ]
            ],
            "type": "heatmapgl"
           }
          ],
          "histogram": [
           {
            "marker": {
             "pattern": {
              "fillmode": "overlay",
              "size": 10,
              "solidity": 0.2
             }
            },
            "type": "histogram"
           }
          ],
          "histogram2d": [
           {
            "colorbar": {
             "outlinewidth": 0,
             "ticks": ""
            },
            "colorscale": [
             [
              0,
              "#0d0887"
             ],
             [
              0.1111111111111111,
              "#46039f"
             ],
             [
              0.2222222222222222,
              "#7201a8"
             ],
             [
              0.3333333333333333,
              "#9c179e"
             ],
             [
              0.4444444444444444,
              "#bd3786"
             ],
             [
              0.5555555555555556,
              "#d8576b"
             ],
             [
              0.6666666666666666,
              "#ed7953"
             ],
             [
              0.7777777777777778,
              "#fb9f3a"
             ],
             [
              0.8888888888888888,
              "#fdca26"
             ],
             [
              1,
              "#f0f921"
             ]
            ],
            "type": "histogram2d"
           }
          ],
          "histogram2dcontour": [
           {
            "colorbar": {
             "outlinewidth": 0,
             "ticks": ""
            },
            "colorscale": [
             [
              0,
              "#0d0887"
             ],
             [
              0.1111111111111111,
              "#46039f"
             ],
             [
              0.2222222222222222,
              "#7201a8"
             ],
             [
              0.3333333333333333,
              "#9c179e"
             ],
             [
              0.4444444444444444,
              "#bd3786"
             ],
             [
              0.5555555555555556,
              "#d8576b"
             ],
             [
              0.6666666666666666,
              "#ed7953"
             ],
             [
              0.7777777777777778,
              "#fb9f3a"
             ],
             [
              0.8888888888888888,
              "#fdca26"
             ],
             [
              1,
              "#f0f921"
             ]
            ],
            "type": "histogram2dcontour"
           }
          ],
          "mesh3d": [
           {
            "colorbar": {
             "outlinewidth": 0,
             "ticks": ""
            },
            "type": "mesh3d"
           }
          ],
          "parcoords": [
           {
            "line": {
             "colorbar": {
              "outlinewidth": 0,
              "ticks": ""
             }
            },
            "type": "parcoords"
           }
          ],
          "pie": [
           {
            "automargin": true,
            "type": "pie"
           }
          ],
          "scatter": [
           {
            "fillpattern": {
             "fillmode": "overlay",
             "size": 10,
             "solidity": 0.2
            },
            "type": "scatter"
           }
          ],
          "scatter3d": [
           {
            "line": {
             "colorbar": {
              "outlinewidth": 0,
              "ticks": ""
             }
            },
            "marker": {
             "colorbar": {
              "outlinewidth": 0,
              "ticks": ""
             }
            },
            "type": "scatter3d"
           }
          ],
          "scattercarpet": [
           {
            "marker": {
             "colorbar": {
              "outlinewidth": 0,
              "ticks": ""
             }
            },
            "type": "scattercarpet"
           }
          ],
          "scattergeo": [
           {
            "marker": {
             "colorbar": {
              "outlinewidth": 0,
              "ticks": ""
             }
            },
            "type": "scattergeo"
           }
          ],
          "scattergl": [
           {
            "marker": {
             "colorbar": {
              "outlinewidth": 0,
              "ticks": ""
             }
            },
            "type": "scattergl"
           }
          ],
          "scattermapbox": [
           {
            "marker": {
             "colorbar": {
              "outlinewidth": 0,
              "ticks": ""
             }
            },
            "type": "scattermapbox"
           }
          ],
          "scatterpolar": [
           {
            "marker": {
             "colorbar": {
              "outlinewidth": 0,
              "ticks": ""
             }
            },
            "type": "scatterpolar"
           }
          ],
          "scatterpolargl": [
           {
            "marker": {
             "colorbar": {
              "outlinewidth": 0,
              "ticks": ""
             }
            },
            "type": "scatterpolargl"
           }
          ],
          "scatterternary": [
           {
            "marker": {
             "colorbar": {
              "outlinewidth": 0,
              "ticks": ""
             }
            },
            "type": "scatterternary"
           }
          ],
          "surface": [
           {
            "colorbar": {
             "outlinewidth": 0,
             "ticks": ""
            },
            "colorscale": [
             [
              0,
              "#0d0887"
             ],
             [
              0.1111111111111111,
              "#46039f"
             ],
             [
              0.2222222222222222,
              "#7201a8"
             ],
             [
              0.3333333333333333,
              "#9c179e"
             ],
             [
              0.4444444444444444,
              "#bd3786"
             ],
             [
              0.5555555555555556,
              "#d8576b"
             ],
             [
              0.6666666666666666,
              "#ed7953"
             ],
             [
              0.7777777777777778,
              "#fb9f3a"
             ],
             [
              0.8888888888888888,
              "#fdca26"
             ],
             [
              1,
              "#f0f921"
             ]
            ],
            "type": "surface"
           }
          ],
          "table": [
           {
            "cells": {
             "fill": {
              "color": "#EBF0F8"
             },
             "line": {
              "color": "white"
             }
            },
            "header": {
             "fill": {
              "color": "#C8D4E3"
             },
             "line": {
              "color": "white"
             }
            },
            "type": "table"
           }
          ]
         },
         "layout": {
          "annotationdefaults": {
           "arrowcolor": "#2a3f5f",
           "arrowhead": 0,
           "arrowwidth": 1
          },
          "autotypenumbers": "strict",
          "coloraxis": {
           "colorbar": {
            "outlinewidth": 0,
            "ticks": ""
           }
          },
          "colorscale": {
           "diverging": [
            [
             0,
             "#8e0152"
            ],
            [
             0.1,
             "#c51b7d"
            ],
            [
             0.2,
             "#de77ae"
            ],
            [
             0.3,
             "#f1b6da"
            ],
            [
             0.4,
             "#fde0ef"
            ],
            [
             0.5,
             "#f7f7f7"
            ],
            [
             0.6,
             "#e6f5d0"
            ],
            [
             0.7,
             "#b8e186"
            ],
            [
             0.8,
             "#7fbc41"
            ],
            [
             0.9,
             "#4d9221"
            ],
            [
             1,
             "#276419"
            ]
           ],
           "sequential": [
            [
             0,
             "#0d0887"
            ],
            [
             0.1111111111111111,
             "#46039f"
            ],
            [
             0.2222222222222222,
             "#7201a8"
            ],
            [
             0.3333333333333333,
             "#9c179e"
            ],
            [
             0.4444444444444444,
             "#bd3786"
            ],
            [
             0.5555555555555556,
             "#d8576b"
            ],
            [
             0.6666666666666666,
             "#ed7953"
            ],
            [
             0.7777777777777778,
             "#fb9f3a"
            ],
            [
             0.8888888888888888,
             "#fdca26"
            ],
            [
             1,
             "#f0f921"
            ]
           ],
           "sequentialminus": [
            [
             0,
             "#0d0887"
            ],
            [
             0.1111111111111111,
             "#46039f"
            ],
            [
             0.2222222222222222,
             "#7201a8"
            ],
            [
             0.3333333333333333,
             "#9c179e"
            ],
            [
             0.4444444444444444,
             "#bd3786"
            ],
            [
             0.5555555555555556,
             "#d8576b"
            ],
            [
             0.6666666666666666,
             "#ed7953"
            ],
            [
             0.7777777777777778,
             "#fb9f3a"
            ],
            [
             0.8888888888888888,
             "#fdca26"
            ],
            [
             1,
             "#f0f921"
            ]
           ]
          },
          "colorway": [
           "#636efa",
           "#EF553B",
           "#00cc96",
           "#ab63fa",
           "#FFA15A",
           "#19d3f3",
           "#FF6692",
           "#B6E880",
           "#FF97FF",
           "#FECB52"
          ],
          "font": {
           "color": "#2a3f5f"
          },
          "geo": {
           "bgcolor": "white",
           "lakecolor": "white",
           "landcolor": "#E5ECF6",
           "showlakes": true,
           "showland": true,
           "subunitcolor": "white"
          },
          "hoverlabel": {
           "align": "left"
          },
          "hovermode": "closest",
          "mapbox": {
           "style": "light"
          },
          "paper_bgcolor": "white",
          "plot_bgcolor": "#E5ECF6",
          "polar": {
           "angularaxis": {
            "gridcolor": "white",
            "linecolor": "white",
            "ticks": ""
           },
           "bgcolor": "#E5ECF6",
           "radialaxis": {
            "gridcolor": "white",
            "linecolor": "white",
            "ticks": ""
           }
          },
          "scene": {
           "xaxis": {
            "backgroundcolor": "#E5ECF6",
            "gridcolor": "white",
            "gridwidth": 2,
            "linecolor": "white",
            "showbackground": true,
            "ticks": "",
            "zerolinecolor": "white"
           },
           "yaxis": {
            "backgroundcolor": "#E5ECF6",
            "gridcolor": "white",
            "gridwidth": 2,
            "linecolor": "white",
            "showbackground": true,
            "ticks": "",
            "zerolinecolor": "white"
           },
           "zaxis": {
            "backgroundcolor": "#E5ECF6",
            "gridcolor": "white",
            "gridwidth": 2,
            "linecolor": "white",
            "showbackground": true,
            "ticks": "",
            "zerolinecolor": "white"
           }
          },
          "shapedefaults": {
           "line": {
            "color": "#2a3f5f"
           }
          },
          "ternary": {
           "aaxis": {
            "gridcolor": "white",
            "linecolor": "white",
            "ticks": ""
           },
           "baxis": {
            "gridcolor": "white",
            "linecolor": "white",
            "ticks": ""
           },
           "bgcolor": "#E5ECF6",
           "caxis": {
            "gridcolor": "white",
            "linecolor": "white",
            "ticks": ""
           }
          },
          "title": {
           "x": 0.05
          },
          "xaxis": {
           "automargin": true,
           "gridcolor": "white",
           "linecolor": "white",
           "ticks": "",
           "title": {
            "standoff": 15
           },
           "zerolinecolor": "white",
           "zerolinewidth": 2
          },
          "yaxis": {
           "automargin": true,
           "gridcolor": "white",
           "linecolor": "white",
           "ticks": "",
           "title": {
            "standoff": 15
           },
           "zerolinecolor": "white",
           "zerolinewidth": 2
          }
         }
        },
        "title": {
         "text": "Distributions of Simulated Stellar Mass vs. Disc Mass"
        },
        "width": 600,
        "xaxis": {
         "anchor": "y",
         "domain": [
          0,
          1
         ],
         "title": {
          "text": "Stellar Mass [M☉]"
         }
        },
        "yaxis": {
         "anchor": "x",
         "domain": [
          0,
          1
         ],
         "range": [
          0.0022146448566816,
          0.1854349989421645
         ],
         "title": {
          "text": "Disc Mass [M☉]"
         }
        }
       }
      },
      "text/html": [
       "<div>                            <div id=\"b6bd4447-a01d-43b7-ab1d-678669952de4\" class=\"plotly-graph-div\" style=\"height:600px; width:600px;\"></div>            <script type=\"text/javascript\">                require([\"plotly\"], function(Plotly) {                    window.PLOTLYENV=window.PLOTLYENV || {};                                    if (document.getElementById(\"b6bd4447-a01d-43b7-ab1d-678669952de4\")) {                    Plotly.newPlot(                        \"b6bd4447-a01d-43b7-ab1d-678669952de4\",                        [{\"hovertemplate\":\"Stellar Mass [M\\u2609]=%{x}\\u003cbr\\u003eDisc Mass [M\\u2609]=%{y}\\u003cextra\\u003e\\u003c\\u002fextra\\u003e\",\"legendgroup\":\"\",\"marker\":{\"color\":\"#636efa\",\"symbol\":\"circle\"},\"mode\":\"markers\",\"name\":\"\",\"orientation\":\"v\",\"showlegend\":false,\"x\":[1.9112857515378487,1.1716059114463395,0.9274525789718592,1.0342892788410305,1.06252981299848,0.6819980158790016,0.2453481451266128,1.9821959229563584,0.4519772780991732,0.5578653096873254,1.9744465870105488,1.636396463394603,0.9737204055376798,0.4370771633714392,0.7425052323794465,1.0445194929669892,1.7004333973623262,1.1229498196290733,1.4191471267366538,0.9494290978335772,1.9560889434604016,0.4095251320983426,1.6141119572335587,0.3001495867916649,1.773301813650162,1.4864451210465626,0.436745402994278,1.575300061734389,1.3546048929584775,1.7039707026345658,0.7199320219969365,0.5524108523487288,0.2015917935277888,0.4596523654098647,0.7945166224857985,1.0427257635767209,0.6491393436550742,1.1413860984285549,1.3890008802821814,1.623001229772747,1.932595005190385,0.9688808740694136,0.7452236813762951,0.6902361436402301,1.549485511916237,1.5274576494181795,1.822719362841512,1.3398723400132897,0.5745950821946602,0.9562097395269992,1.098523561715239,1.1928666279527442,1.696951326790358,0.2696825150607189,2.9777844946911625,0.5844278875332486,1.1139934392141984,1.0869720920183077,1.811022961927632,1.9713074321592128,2.051525149871086,1.57343424524838,0.2564268363787247,1.310584737210037,0.9153208768396426,1.1055526318526414,0.9351434795065144,2.019474966698839,1.3232324380798817,0.7593646620496342,0.4633249298761767,0.7581713142217033,1.858294491048268,0.6897334808421487,1.7162646396842454,0.5540474690373127,0.8954576679016939,1.1704680141092287,1.910082429084724,0.6406982086307766,1.8963707371579,1.4237535345150332,1.8351962257833232,1.138872734628798,1.6875313126044182,2.334154624714532,0.5794400893380743,0.4480833741900825,0.884123393262384,1.626377297921402,0.2388285279442047,1.705244606304474,1.8517678872245185,0.4981561577615173,0.2697431581322599,0.8368992079944064,0.6081803630396005,1.1041684536766423],\"xaxis\":\"x\",\"y\":[0.1854349989421645,0.0234048319561293,0.0048776026987275,0.0300069190900897,0.0396255728481055,0.0593246880117953,0.0107508665034749,0.0431383354573367,0.0054884298514845,0.0214851518872051,0.0662526362749502,0.0359583071429649,0.0282367976013366,0.0158378950615388,0.0067036408155354,0.0063058884541925,0.0330256650753856,0.0306952995902671,0.0152083056790505,0.0439448289764983,0.0530716457611638,0.0064630313348337,0.0724575269408536,0.0146680893977352,0.0835602150408957,0.0646438283947167,0.0391710597982204,0.0312950622417646,0.0352580776204454,0.0303396035463615,0.0130297254533065,0.0184481132432529,0.0067183555853983,0.0116308630981988,0.0151052985108298,0.0364732744867713,0.0313461171854656,0.045232548729399,0.0631711120161324,0.0753281410438003,0.0717034557552911,0.0134749435173513,0.012161240100485,0.0110530808364224,0.02056991757665,0.0746201167941996,0.0741717081449188,0.0504347134117819,0.0266554575939116,0.0142897681225241,0.0387138180779473,0.0264975112555542,0.0413739085002274,0.0099180610293947,0.1110707394457454,0.0177241621289394,0.0527400775222612,0.0257318011213816,0.0695773153717605,0.0466670479505054,0.089560529938027,0.0461196826910433,0.0032789662957065,0.0202202577279961,0.009914569100526,0.0220687256525964,0.0223744980580671,0.0698945356694769,0.0141533990848318,0.0283149136408506,0.0064663489149745,0.0244031889591767,0.0275781884572517,0.0244555254540155,0.0902887011526012,0.0087396133027721,0.041397525272496,0.0402551369478117,0.0671679566768715,0.0313008697666871,0.0236898809464622,0.0559362496085136,0.0278307567530449,0.0219955813596097,0.0214234747977969,0.0720421451401117,0.0248240885906567,0.0211338778632034,0.0249129026209874,0.0483120407725351,0.0022146448566816,0.0343954789265478,0.0693122302593419,0.0077643101670939,0.0066938710571021,0.022144099224889,0.022528654993736,0.0873306681151783],\"yaxis\":\"y\",\"type\":\"scatter\"}],                        {\"template\":{\"data\":{\"histogram2dcontour\":[{\"type\":\"histogram2dcontour\",\"colorbar\":{\"outlinewidth\":0,\"ticks\":\"\"},\"colorscale\":[[0.0,\"#0d0887\"],[0.1111111111111111,\"#46039f\"],[0.2222222222222222,\"#7201a8\"],[0.3333333333333333,\"#9c179e\"],[0.4444444444444444,\"#bd3786\"],[0.5555555555555556,\"#d8576b\"],[0.6666666666666666,\"#ed7953\"],[0.7777777777777778,\"#fb9f3a\"],[0.8888888888888888,\"#fdca26\"],[1.0,\"#f0f921\"]]}],\"choropleth\":[{\"type\":\"choropleth\",\"colorbar\":{\"outlinewidth\":0,\"ticks\":\"\"}}],\"histogram2d\":[{\"type\":\"histogram2d\",\"colorbar\":{\"outlinewidth\":0,\"ticks\":\"\"},\"colorscale\":[[0.0,\"#0d0887\"],[0.1111111111111111,\"#46039f\"],[0.2222222222222222,\"#7201a8\"],[0.3333333333333333,\"#9c179e\"],[0.4444444444444444,\"#bd3786\"],[0.5555555555555556,\"#d8576b\"],[0.6666666666666666,\"#ed7953\"],[0.7777777777777778,\"#fb9f3a\"],[0.8888888888888888,\"#fdca26\"],[1.0,\"#f0f921\"]]}],\"heatmap\":[{\"type\":\"heatmap\",\"colorbar\":{\"outlinewidth\":0,\"ticks\":\"\"},\"colorscale\":[[0.0,\"#0d0887\"],[0.1111111111111111,\"#46039f\"],[0.2222222222222222,\"#7201a8\"],[0.3333333333333333,\"#9c179e\"],[0.4444444444444444,\"#bd3786\"],[0.5555555555555556,\"#d8576b\"],[0.6666666666666666,\"#ed7953\"],[0.7777777777777778,\"#fb9f3a\"],[0.8888888888888888,\"#fdca26\"],[1.0,\"#f0f921\"]]}],\"heatmapgl\":[{\"type\":\"heatmapgl\",\"colorbar\":{\"outlinewidth\":0,\"ticks\":\"\"},\"colorscale\":[[0.0,\"#0d0887\"],[0.1111111111111111,\"#46039f\"],[0.2222222222222222,\"#7201a8\"],[0.3333333333333333,\"#9c179e\"],[0.4444444444444444,\"#bd3786\"],[0.5555555555555556,\"#d8576b\"],[0.6666666666666666,\"#ed7953\"],[0.7777777777777778,\"#fb9f3a\"],[0.8888888888888888,\"#fdca26\"],[1.0,\"#f0f921\"]]}],\"contourcarpet\":[{\"type\":\"contourcarpet\",\"colorbar\":{\"outlinewidth\":0,\"ticks\":\"\"}}],\"contour\":[{\"type\":\"contour\",\"colorbar\":{\"outlinewidth\":0,\"ticks\":\"\"},\"colorscale\":[[0.0,\"#0d0887\"],[0.1111111111111111,\"#46039f\"],[0.2222222222222222,\"#7201a8\"],[0.3333333333333333,\"#9c179e\"],[0.4444444444444444,\"#bd3786\"],[0.5555555555555556,\"#d8576b\"],[0.6666666666666666,\"#ed7953\"],[0.7777777777777778,\"#fb9f3a\"],[0.8888888888888888,\"#fdca26\"],[1.0,\"#f0f921\"]]}],\"surface\":[{\"type\":\"surface\",\"colorbar\":{\"outlinewidth\":0,\"ticks\":\"\"},\"colorscale\":[[0.0,\"#0d0887\"],[0.1111111111111111,\"#46039f\"],[0.2222222222222222,\"#7201a8\"],[0.3333333333333333,\"#9c179e\"],[0.4444444444444444,\"#bd3786\"],[0.5555555555555556,\"#d8576b\"],[0.6666666666666666,\"#ed7953\"],[0.7777777777777778,\"#fb9f3a\"],[0.8888888888888888,\"#fdca26\"],[1.0,\"#f0f921\"]]}],\"mesh3d\":[{\"type\":\"mesh3d\",\"colorbar\":{\"outlinewidth\":0,\"ticks\":\"\"}}],\"scatter\":[{\"fillpattern\":{\"fillmode\":\"overlay\",\"size\":10,\"solidity\":0.2},\"type\":\"scatter\"}],\"parcoords\":[{\"type\":\"parcoords\",\"line\":{\"colorbar\":{\"outlinewidth\":0,\"ticks\":\"\"}}}],\"scatterpolargl\":[{\"type\":\"scatterpolargl\",\"marker\":{\"colorbar\":{\"outlinewidth\":0,\"ticks\":\"\"}}}],\"bar\":[{\"error_x\":{\"color\":\"#2a3f5f\"},\"error_y\":{\"color\":\"#2a3f5f\"},\"marker\":{\"line\":{\"color\":\"#E5ECF6\",\"width\":0.5},\"pattern\":{\"fillmode\":\"overlay\",\"size\":10,\"solidity\":0.2}},\"type\":\"bar\"}],\"scattergeo\":[{\"type\":\"scattergeo\",\"marker\":{\"colorbar\":{\"outlinewidth\":0,\"ticks\":\"\"}}}],\"scatterpolar\":[{\"type\":\"scatterpolar\",\"marker\":{\"colorbar\":{\"outlinewidth\":0,\"ticks\":\"\"}}}],\"histogram\":[{\"marker\":{\"pattern\":{\"fillmode\":\"overlay\",\"size\":10,\"solidity\":0.2}},\"type\":\"histogram\"}],\"scattergl\":[{\"type\":\"scattergl\",\"marker\":{\"colorbar\":{\"outlinewidth\":0,\"ticks\":\"\"}}}],\"scatter3d\":[{\"type\":\"scatter3d\",\"line\":{\"colorbar\":{\"outlinewidth\":0,\"ticks\":\"\"}},\"marker\":{\"colorbar\":{\"outlinewidth\":0,\"ticks\":\"\"}}}],\"scattermapbox\":[{\"type\":\"scattermapbox\",\"marker\":{\"colorbar\":{\"outlinewidth\":0,\"ticks\":\"\"}}}],\"scatterternary\":[{\"type\":\"scatterternary\",\"marker\":{\"colorbar\":{\"outlinewidth\":0,\"ticks\":\"\"}}}],\"scattercarpet\":[{\"type\":\"scattercarpet\",\"marker\":{\"colorbar\":{\"outlinewidth\":0,\"ticks\":\"\"}}}],\"carpet\":[{\"aaxis\":{\"endlinecolor\":\"#2a3f5f\",\"gridcolor\":\"white\",\"linecolor\":\"white\",\"minorgridcolor\":\"white\",\"startlinecolor\":\"#2a3f5f\"},\"baxis\":{\"endlinecolor\":\"#2a3f5f\",\"gridcolor\":\"white\",\"linecolor\":\"white\",\"minorgridcolor\":\"white\",\"startlinecolor\":\"#2a3f5f\"},\"type\":\"carpet\"}],\"table\":[{\"cells\":{\"fill\":{\"color\":\"#EBF0F8\"},\"line\":{\"color\":\"white\"}},\"header\":{\"fill\":{\"color\":\"#C8D4E3\"},\"line\":{\"color\":\"white\"}},\"type\":\"table\"}],\"barpolar\":[{\"marker\":{\"line\":{\"color\":\"#E5ECF6\",\"width\":0.5},\"pattern\":{\"fillmode\":\"overlay\",\"size\":10,\"solidity\":0.2}},\"type\":\"barpolar\"}],\"pie\":[{\"automargin\":true,\"type\":\"pie\"}]},\"layout\":{\"autotypenumbers\":\"strict\",\"colorway\":[\"#636efa\",\"#EF553B\",\"#00cc96\",\"#ab63fa\",\"#FFA15A\",\"#19d3f3\",\"#FF6692\",\"#B6E880\",\"#FF97FF\",\"#FECB52\"],\"font\":{\"color\":\"#2a3f5f\"},\"hovermode\":\"closest\",\"hoverlabel\":{\"align\":\"left\"},\"paper_bgcolor\":\"white\",\"plot_bgcolor\":\"#E5ECF6\",\"polar\":{\"bgcolor\":\"#E5ECF6\",\"angularaxis\":{\"gridcolor\":\"white\",\"linecolor\":\"white\",\"ticks\":\"\"},\"radialaxis\":{\"gridcolor\":\"white\",\"linecolor\":\"white\",\"ticks\":\"\"}},\"ternary\":{\"bgcolor\":\"#E5ECF6\",\"aaxis\":{\"gridcolor\":\"white\",\"linecolor\":\"white\",\"ticks\":\"\"},\"baxis\":{\"gridcolor\":\"white\",\"linecolor\":\"white\",\"ticks\":\"\"},\"caxis\":{\"gridcolor\":\"white\",\"linecolor\":\"white\",\"ticks\":\"\"}},\"coloraxis\":{\"colorbar\":{\"outlinewidth\":0,\"ticks\":\"\"}},\"colorscale\":{\"sequential\":[[0.0,\"#0d0887\"],[0.1111111111111111,\"#46039f\"],[0.2222222222222222,\"#7201a8\"],[0.3333333333333333,\"#9c179e\"],[0.4444444444444444,\"#bd3786\"],[0.5555555555555556,\"#d8576b\"],[0.6666666666666666,\"#ed7953\"],[0.7777777777777778,\"#fb9f3a\"],[0.8888888888888888,\"#fdca26\"],[1.0,\"#f0f921\"]],\"sequentialminus\":[[0.0,\"#0d0887\"],[0.1111111111111111,\"#46039f\"],[0.2222222222222222,\"#7201a8\"],[0.3333333333333333,\"#9c179e\"],[0.4444444444444444,\"#bd3786\"],[0.5555555555555556,\"#d8576b\"],[0.6666666666666666,\"#ed7953\"],[0.7777777777777778,\"#fb9f3a\"],[0.8888888888888888,\"#fdca26\"],[1.0,\"#f0f921\"]],\"diverging\":[[0,\"#8e0152\"],[0.1,\"#c51b7d\"],[0.2,\"#de77ae\"],[0.3,\"#f1b6da\"],[0.4,\"#fde0ef\"],[0.5,\"#f7f7f7\"],[0.6,\"#e6f5d0\"],[0.7,\"#b8e186\"],[0.8,\"#7fbc41\"],[0.9,\"#4d9221\"],[1,\"#276419\"]]},\"xaxis\":{\"gridcolor\":\"white\",\"linecolor\":\"white\",\"ticks\":\"\",\"title\":{\"standoff\":15},\"zerolinecolor\":\"white\",\"automargin\":true,\"zerolinewidth\":2},\"yaxis\":{\"gridcolor\":\"white\",\"linecolor\":\"white\",\"ticks\":\"\",\"title\":{\"standoff\":15},\"zerolinecolor\":\"white\",\"automargin\":true,\"zerolinewidth\":2},\"scene\":{\"xaxis\":{\"backgroundcolor\":\"#E5ECF6\",\"gridcolor\":\"white\",\"linecolor\":\"white\",\"showbackground\":true,\"ticks\":\"\",\"zerolinecolor\":\"white\",\"gridwidth\":2},\"yaxis\":{\"backgroundcolor\":\"#E5ECF6\",\"gridcolor\":\"white\",\"linecolor\":\"white\",\"showbackground\":true,\"ticks\":\"\",\"zerolinecolor\":\"white\",\"gridwidth\":2},\"zaxis\":{\"backgroundcolor\":\"#E5ECF6\",\"gridcolor\":\"white\",\"linecolor\":\"white\",\"showbackground\":true,\"ticks\":\"\",\"zerolinecolor\":\"white\",\"gridwidth\":2}},\"shapedefaults\":{\"line\":{\"color\":\"#2a3f5f\"}},\"annotationdefaults\":{\"arrowcolor\":\"#2a3f5f\",\"arrowhead\":0,\"arrowwidth\":1},\"geo\":{\"bgcolor\":\"white\",\"landcolor\":\"#E5ECF6\",\"subunitcolor\":\"white\",\"showland\":true,\"showlakes\":true,\"lakecolor\":\"white\"},\"title\":{\"x\":0.05},\"mapbox\":{\"style\":\"light\"}}},\"xaxis\":{\"anchor\":\"y\",\"domain\":[0.0,1.0],\"title\":{\"text\":\"Stellar Mass [M\\u2609]\"}},\"yaxis\":{\"anchor\":\"x\",\"domain\":[0.0,1.0],\"title\":{\"text\":\"Disc Mass [M\\u2609]\"},\"range\":[0.0022146448566816,0.1854349989421645]},\"legend\":{\"tracegroupgap\":0},\"title\":{\"text\":\"Distributions of Simulated Stellar Mass vs. Disc Mass\"},\"font\":{\"size\":10},\"width\":600,\"height\":600},                        {\"responsive\": true}                    ).then(function(){\n",
       "                            \n",
       "var gd = document.getElementById('b6bd4447-a01d-43b7-ab1d-678669952de4');\n",
       "var x = new MutationObserver(function (mutations, observer) {{\n",
       "        var display = window.getComputedStyle(gd).display;\n",
       "        if (!display || display === 'none') {{\n",
       "            console.log([gd, 'removed!']);\n",
       "            Plotly.purge(gd);\n",
       "            observer.disconnect();\n",
       "        }}\n",
       "}});\n",
       "\n",
       "// Listen for the removal of the full notebook cells\n",
       "var notebookContainer = gd.closest('#notebook-container');\n",
       "if (notebookContainer) {{\n",
       "    x.observe(notebookContainer, {childList: true});\n",
       "}}\n",
       "\n",
       "// Listen for the clearing of the current output cell\n",
       "var outputEl = gd.closest('.output');\n",
       "if (outputEl) {{\n",
       "    x.observe(outputEl, {childList: true});\n",
       "}}\n",
       "\n",
       "                        })                };                });            </script>        </div>"
      ]
     },
     "metadata": {},
     "output_type": "display_data"
    },
    {
     "data": {
      "application/vnd.plotly.v1+json": {
       "config": {
        "plotlyServerURL": "https://plot.ly"
       },
       "data": [
        {
         "hovertemplate": "Stellar Mass [M☉]=%{x}<br>Disc Mass [M☉]=%{y}<br>Outer Radius [AU]=%{z}<extra></extra>",
         "legendgroup": "",
         "marker": {
          "color": "#636efa",
          "symbol": "circle"
         },
         "mode": "markers",
         "name": "",
         "scene": "scene",
         "showlegend": false,
         "type": "scatter3d",
         "x": [
          1.9112857515378487,
          1.1716059114463395,
          0.9274525789718592,
          1.0342892788410305,
          1.06252981299848,
          0.6819980158790016,
          0.2453481451266128,
          1.9821959229563584,
          0.4519772780991732,
          0.5578653096873254,
          1.9744465870105488,
          1.636396463394603,
          0.9737204055376798,
          0.4370771633714392,
          0.7425052323794465,
          1.0445194929669892,
          1.7004333973623262,
          1.1229498196290733,
          1.4191471267366538,
          0.9494290978335772,
          1.9560889434604016,
          0.4095251320983426,
          1.6141119572335587,
          0.3001495867916649,
          1.773301813650162,
          1.4864451210465626,
          0.436745402994278,
          1.575300061734389,
          1.3546048929584775,
          1.7039707026345658,
          0.7199320219969365,
          0.5524108523487288,
          0.2015917935277888,
          0.4596523654098647,
          0.7945166224857985,
          1.0427257635767209,
          0.6491393436550742,
          1.1413860984285549,
          1.3890008802821814,
          1.623001229772747,
          1.932595005190385,
          0.9688808740694136,
          0.7452236813762951,
          0.6902361436402301,
          1.549485511916237,
          1.5274576494181795,
          1.822719362841512,
          1.3398723400132897,
          0.5745950821946602,
          0.9562097395269992,
          1.098523561715239,
          1.1928666279527442,
          1.696951326790358,
          0.2696825150607189,
          2.9777844946911625,
          0.5844278875332486,
          1.1139934392141984,
          1.0869720920183077,
          1.811022961927632,
          1.9713074321592128,
          2.051525149871086,
          1.57343424524838,
          0.2564268363787247,
          1.310584737210037,
          0.9153208768396426,
          1.1055526318526414,
          0.9351434795065144,
          2.019474966698839,
          1.3232324380798817,
          0.7593646620496342,
          0.4633249298761767,
          0.7581713142217033,
          1.858294491048268,
          0.6897334808421487,
          1.7162646396842454,
          0.5540474690373127,
          0.8954576679016939,
          1.1704680141092287,
          1.910082429084724,
          0.6406982086307766,
          1.8963707371579,
          1.4237535345150332,
          1.8351962257833232,
          1.138872734628798,
          1.6875313126044182,
          2.334154624714532,
          0.5794400893380743,
          0.4480833741900825,
          0.884123393262384,
          1.626377297921402,
          0.2388285279442047,
          1.705244606304474,
          1.8517678872245185,
          0.4981561577615173,
          0.2697431581322599,
          0.8368992079944064,
          0.6081803630396005,
          1.1041684536766423
         ],
         "y": [
          0.1854349989421645,
          0.0234048319561293,
          0.0048776026987275,
          0.0300069190900897,
          0.0396255728481055,
          0.0593246880117953,
          0.0107508665034749,
          0.0431383354573367,
          0.0054884298514845,
          0.0214851518872051,
          0.0662526362749502,
          0.0359583071429649,
          0.0282367976013366,
          0.0158378950615388,
          0.0067036408155354,
          0.0063058884541925,
          0.0330256650753856,
          0.0306952995902671,
          0.0152083056790505,
          0.0439448289764983,
          0.0530716457611638,
          0.0064630313348337,
          0.0724575269408536,
          0.0146680893977352,
          0.0835602150408957,
          0.0646438283947167,
          0.0391710597982204,
          0.0312950622417646,
          0.0352580776204454,
          0.0303396035463615,
          0.0130297254533065,
          0.0184481132432529,
          0.0067183555853983,
          0.0116308630981988,
          0.0151052985108298,
          0.0364732744867713,
          0.0313461171854656,
          0.045232548729399,
          0.0631711120161324,
          0.0753281410438003,
          0.0717034557552911,
          0.0134749435173513,
          0.012161240100485,
          0.0110530808364224,
          0.02056991757665,
          0.0746201167941996,
          0.0741717081449188,
          0.0504347134117819,
          0.0266554575939116,
          0.0142897681225241,
          0.0387138180779473,
          0.0264975112555542,
          0.0413739085002274,
          0.0099180610293947,
          0.1110707394457454,
          0.0177241621289394,
          0.0527400775222612,
          0.0257318011213816,
          0.0695773153717605,
          0.0466670479505054,
          0.089560529938027,
          0.0461196826910433,
          0.0032789662957065,
          0.0202202577279961,
          0.009914569100526,
          0.0220687256525964,
          0.0223744980580671,
          0.0698945356694769,
          0.0141533990848318,
          0.0283149136408506,
          0.0064663489149745,
          0.0244031889591767,
          0.0275781884572517,
          0.0244555254540155,
          0.0902887011526012,
          0.0087396133027721,
          0.041397525272496,
          0.0402551369478117,
          0.0671679566768715,
          0.0313008697666871,
          0.0236898809464622,
          0.0559362496085136,
          0.0278307567530449,
          0.0219955813596097,
          0.0214234747977969,
          0.0720421451401117,
          0.0248240885906567,
          0.0211338778632034,
          0.0249129026209874,
          0.0483120407725351,
          0.0022146448566816,
          0.0343954789265478,
          0.0693122302593419,
          0.0077643101670939,
          0.0066938710571021,
          0.022144099224889,
          0.022528654993736,
          0.0873306681151783
         ],
         "z": [
          90.63233020424546,
          34.663337867357185,
          60.49083203690531,
          115.54939173532378,
          95.07241141953924,
          64.18622402880571,
          97.69246926793024,
          54.037069152435095,
          39.46521195989983,
          63.11192523401145,
          51.12665587638856,
          98.80628156882906,
          65.64105758938219,
          75.88051849084628,
          65.92190114313951,
          50.0357015067996,
          36.57936505916214,
          61.2717667717975,
          95.58644777360868,
          78.93743437797885,
          82.18521597469409,
          86.86072387964367,
          62.75039161525476,
          92.7003422323601,
          50.72171860644272,
          46.86717635968964,
          63.50807582364138,
          42.961553179134185,
          95.67647255789429,
          65.28266053401302,
          72.71742848028634,
          93.58677831598848,
          59.78439894160803,
          63.57296279148584,
          86.93907900246082,
          38.86912915242654,
          41.11434004010836,
          37.70952200564342,
          81.33521978790831,
          50.95355200325557,
          67.62774430970327,
          47.96834717062442,
          33.74174834634073,
          51.61270904190137,
          74.07622212894842,
          49.67456042627146,
          93.24805147746495,
          51.53606089061228,
          31.576174324922665,
          56.12039758670721,
          88.31765921937455,
          91.23311931720195,
          78.22391123891707,
          69.14223591225542,
          74.06387327927598,
          38.49687594680814,
          51.06907976787391,
          92.77485858088266,
          38.003159418060434,
          69.52426136085698,
          60.09045032440355,
          36.339087565926846,
          63.77233532138126,
          39.97818634013872,
          35.91350526311759,
          70.50647195685913,
          68.23638447673717,
          95.36591305788946,
          77.18558528058952,
          93.85704296819404,
          44.426707626453805,
          61.26678152341669,
          52.46336378791807,
          57.11164386401718,
          83.0973149170078,
          73.1699447437974,
          62.30696756702043,
          62.57263765495964,
          63.20509385115661,
          35.284319671537204,
          89.55849529146734,
          35.57911319253498,
          69.2110170799429,
          83.22001262219636,
          96.9624123749968,
          79.40671575923042,
          31.1239996761017,
          95.87704834585404,
          94.20745245733949,
          89.40531913879136,
          68.15234438139598,
          99.11007429083084,
          96.44192330076037,
          80.30752619256447,
          71.80561110948724,
          53.87276544709739,
          40.84449778265961,
          84.23934748306394
         ]
        }
       ],
       "layout": {
        "font": {
         "size": 10
        },
        "height": 600,
        "legend": {
         "tracegroupgap": 0
        },
        "scene": {
         "aspectmode": "cube",
         "domain": {
          "x": [
           0,
           1
          ],
          "y": [
           0,
           1
          ]
         },
         "xaxis": {
          "title": {
           "text": "Stellar Mass [M☉]"
          }
         },
         "yaxis": {
          "title": {
           "text": "Disc Mass [M☉]"
          }
         },
         "zaxis": {
          "title": {
           "text": "Outer Radius [AU]"
          }
         }
        },
        "template": {
         "data": {
          "bar": [
           {
            "error_x": {
             "color": "#2a3f5f"
            },
            "error_y": {
             "color": "#2a3f5f"
            },
            "marker": {
             "line": {
              "color": "#E5ECF6",
              "width": 0.5
             },
             "pattern": {
              "fillmode": "overlay",
              "size": 10,
              "solidity": 0.2
             }
            },
            "type": "bar"
           }
          ],
          "barpolar": [
           {
            "marker": {
             "line": {
              "color": "#E5ECF6",
              "width": 0.5
             },
             "pattern": {
              "fillmode": "overlay",
              "size": 10,
              "solidity": 0.2
             }
            },
            "type": "barpolar"
           }
          ],
          "carpet": [
           {
            "aaxis": {
             "endlinecolor": "#2a3f5f",
             "gridcolor": "white",
             "linecolor": "white",
             "minorgridcolor": "white",
             "startlinecolor": "#2a3f5f"
            },
            "baxis": {
             "endlinecolor": "#2a3f5f",
             "gridcolor": "white",
             "linecolor": "white",
             "minorgridcolor": "white",
             "startlinecolor": "#2a3f5f"
            },
            "type": "carpet"
           }
          ],
          "choropleth": [
           {
            "colorbar": {
             "outlinewidth": 0,
             "ticks": ""
            },
            "type": "choropleth"
           }
          ],
          "contour": [
           {
            "colorbar": {
             "outlinewidth": 0,
             "ticks": ""
            },
            "colorscale": [
             [
              0,
              "#0d0887"
             ],
             [
              0.1111111111111111,
              "#46039f"
             ],
             [
              0.2222222222222222,
              "#7201a8"
             ],
             [
              0.3333333333333333,
              "#9c179e"
             ],
             [
              0.4444444444444444,
              "#bd3786"
             ],
             [
              0.5555555555555556,
              "#d8576b"
             ],
             [
              0.6666666666666666,
              "#ed7953"
             ],
             [
              0.7777777777777778,
              "#fb9f3a"
             ],
             [
              0.8888888888888888,
              "#fdca26"
             ],
             [
              1,
              "#f0f921"
             ]
            ],
            "type": "contour"
           }
          ],
          "contourcarpet": [
           {
            "colorbar": {
             "outlinewidth": 0,
             "ticks": ""
            },
            "type": "contourcarpet"
           }
          ],
          "heatmap": [
           {
            "colorbar": {
             "outlinewidth": 0,
             "ticks": ""
            },
            "colorscale": [
             [
              0,
              "#0d0887"
             ],
             [
              0.1111111111111111,
              "#46039f"
             ],
             [
              0.2222222222222222,
              "#7201a8"
             ],
             [
              0.3333333333333333,
              "#9c179e"
             ],
             [
              0.4444444444444444,
              "#bd3786"
             ],
             [
              0.5555555555555556,
              "#d8576b"
             ],
             [
              0.6666666666666666,
              "#ed7953"
             ],
             [
              0.7777777777777778,
              "#fb9f3a"
             ],
             [
              0.8888888888888888,
              "#fdca26"
             ],
             [
              1,
              "#f0f921"
             ]
            ],
            "type": "heatmap"
           }
          ],
          "heatmapgl": [
           {
            "colorbar": {
             "outlinewidth": 0,
             "ticks": ""
            },
            "colorscale": [
             [
              0,
              "#0d0887"
             ],
             [
              0.1111111111111111,
              "#46039f"
             ],
             [
              0.2222222222222222,
              "#7201a8"
             ],
             [
              0.3333333333333333,
              "#9c179e"
             ],
             [
              0.4444444444444444,
              "#bd3786"
             ],
             [
              0.5555555555555556,
              "#d8576b"
             ],
             [
              0.6666666666666666,
              "#ed7953"
             ],
             [
              0.7777777777777778,
              "#fb9f3a"
             ],
             [
              0.8888888888888888,
              "#fdca26"
             ],
             [
              1,
              "#f0f921"
             ]
            ],
            "type": "heatmapgl"
           }
          ],
          "histogram": [
           {
            "marker": {
             "pattern": {
              "fillmode": "overlay",
              "size": 10,
              "solidity": 0.2
             }
            },
            "type": "histogram"
           }
          ],
          "histogram2d": [
           {
            "colorbar": {
             "outlinewidth": 0,
             "ticks": ""
            },
            "colorscale": [
             [
              0,
              "#0d0887"
             ],
             [
              0.1111111111111111,
              "#46039f"
             ],
             [
              0.2222222222222222,
              "#7201a8"
             ],
             [
              0.3333333333333333,
              "#9c179e"
             ],
             [
              0.4444444444444444,
              "#bd3786"
             ],
             [
              0.5555555555555556,
              "#d8576b"
             ],
             [
              0.6666666666666666,
              "#ed7953"
             ],
             [
              0.7777777777777778,
              "#fb9f3a"
             ],
             [
              0.8888888888888888,
              "#fdca26"
             ],
             [
              1,
              "#f0f921"
             ]
            ],
            "type": "histogram2d"
           }
          ],
          "histogram2dcontour": [
           {
            "colorbar": {
             "outlinewidth": 0,
             "ticks": ""
            },
            "colorscale": [
             [
              0,
              "#0d0887"
             ],
             [
              0.1111111111111111,
              "#46039f"
             ],
             [
              0.2222222222222222,
              "#7201a8"
             ],
             [
              0.3333333333333333,
              "#9c179e"
             ],
             [
              0.4444444444444444,
              "#bd3786"
             ],
             [
              0.5555555555555556,
              "#d8576b"
             ],
             [
              0.6666666666666666,
              "#ed7953"
             ],
             [
              0.7777777777777778,
              "#fb9f3a"
             ],
             [
              0.8888888888888888,
              "#fdca26"
             ],
             [
              1,
              "#f0f921"
             ]
            ],
            "type": "histogram2dcontour"
           }
          ],
          "mesh3d": [
           {
            "colorbar": {
             "outlinewidth": 0,
             "ticks": ""
            },
            "type": "mesh3d"
           }
          ],
          "parcoords": [
           {
            "line": {
             "colorbar": {
              "outlinewidth": 0,
              "ticks": ""
             }
            },
            "type": "parcoords"
           }
          ],
          "pie": [
           {
            "automargin": true,
            "type": "pie"
           }
          ],
          "scatter": [
           {
            "fillpattern": {
             "fillmode": "overlay",
             "size": 10,
             "solidity": 0.2
            },
            "type": "scatter"
           }
          ],
          "scatter3d": [
           {
            "line": {
             "colorbar": {
              "outlinewidth": 0,
              "ticks": ""
             }
            },
            "marker": {
             "colorbar": {
              "outlinewidth": 0,
              "ticks": ""
             }
            },
            "type": "scatter3d"
           }
          ],
          "scattercarpet": [
           {
            "marker": {
             "colorbar": {
              "outlinewidth": 0,
              "ticks": ""
             }
            },
            "type": "scattercarpet"
           }
          ],
          "scattergeo": [
           {
            "marker": {
             "colorbar": {
              "outlinewidth": 0,
              "ticks": ""
             }
            },
            "type": "scattergeo"
           }
          ],
          "scattergl": [
           {
            "marker": {
             "colorbar": {
              "outlinewidth": 0,
              "ticks": ""
             }
            },
            "type": "scattergl"
           }
          ],
          "scattermapbox": [
           {
            "marker": {
             "colorbar": {
              "outlinewidth": 0,
              "ticks": ""
             }
            },
            "type": "scattermapbox"
           }
          ],
          "scatterpolar": [
           {
            "marker": {
             "colorbar": {
              "outlinewidth": 0,
              "ticks": ""
             }
            },
            "type": "scatterpolar"
           }
          ],
          "scatterpolargl": [
           {
            "marker": {
             "colorbar": {
              "outlinewidth": 0,
              "ticks": ""
             }
            },
            "type": "scatterpolargl"
           }
          ],
          "scatterternary": [
           {
            "marker": {
             "colorbar": {
              "outlinewidth": 0,
              "ticks": ""
             }
            },
            "type": "scatterternary"
           }
          ],
          "surface": [
           {
            "colorbar": {
             "outlinewidth": 0,
             "ticks": ""
            },
            "colorscale": [
             [
              0,
              "#0d0887"
             ],
             [
              0.1111111111111111,
              "#46039f"
             ],
             [
              0.2222222222222222,
              "#7201a8"
             ],
             [
              0.3333333333333333,
              "#9c179e"
             ],
             [
              0.4444444444444444,
              "#bd3786"
             ],
             [
              0.5555555555555556,
              "#d8576b"
             ],
             [
              0.6666666666666666,
              "#ed7953"
             ],
             [
              0.7777777777777778,
              "#fb9f3a"
             ],
             [
              0.8888888888888888,
              "#fdca26"
             ],
             [
              1,
              "#f0f921"
             ]
            ],
            "type": "surface"
           }
          ],
          "table": [
           {
            "cells": {
             "fill": {
              "color": "#EBF0F8"
             },
             "line": {
              "color": "white"
             }
            },
            "header": {
             "fill": {
              "color": "#C8D4E3"
             },
             "line": {
              "color": "white"
             }
            },
            "type": "table"
           }
          ]
         },
         "layout": {
          "annotationdefaults": {
           "arrowcolor": "#2a3f5f",
           "arrowhead": 0,
           "arrowwidth": 1
          },
          "autotypenumbers": "strict",
          "coloraxis": {
           "colorbar": {
            "outlinewidth": 0,
            "ticks": ""
           }
          },
          "colorscale": {
           "diverging": [
            [
             0,
             "#8e0152"
            ],
            [
             0.1,
             "#c51b7d"
            ],
            [
             0.2,
             "#de77ae"
            ],
            [
             0.3,
             "#f1b6da"
            ],
            [
             0.4,
             "#fde0ef"
            ],
            [
             0.5,
             "#f7f7f7"
            ],
            [
             0.6,
             "#e6f5d0"
            ],
            [
             0.7,
             "#b8e186"
            ],
            [
             0.8,
             "#7fbc41"
            ],
            [
             0.9,
             "#4d9221"
            ],
            [
             1,
             "#276419"
            ]
           ],
           "sequential": [
            [
             0,
             "#0d0887"
            ],
            [
             0.1111111111111111,
             "#46039f"
            ],
            [
             0.2222222222222222,
             "#7201a8"
            ],
            [
             0.3333333333333333,
             "#9c179e"
            ],
            [
             0.4444444444444444,
             "#bd3786"
            ],
            [
             0.5555555555555556,
             "#d8576b"
            ],
            [
             0.6666666666666666,
             "#ed7953"
            ],
            [
             0.7777777777777778,
             "#fb9f3a"
            ],
            [
             0.8888888888888888,
             "#fdca26"
            ],
            [
             1,
             "#f0f921"
            ]
           ],
           "sequentialminus": [
            [
             0,
             "#0d0887"
            ],
            [
             0.1111111111111111,
             "#46039f"
            ],
            [
             0.2222222222222222,
             "#7201a8"
            ],
            [
             0.3333333333333333,
             "#9c179e"
            ],
            [
             0.4444444444444444,
             "#bd3786"
            ],
            [
             0.5555555555555556,
             "#d8576b"
            ],
            [
             0.6666666666666666,
             "#ed7953"
            ],
            [
             0.7777777777777778,
             "#fb9f3a"
            ],
            [
             0.8888888888888888,
             "#fdca26"
            ],
            [
             1,
             "#f0f921"
            ]
           ]
          },
          "colorway": [
           "#636efa",
           "#EF553B",
           "#00cc96",
           "#ab63fa",
           "#FFA15A",
           "#19d3f3",
           "#FF6692",
           "#B6E880",
           "#FF97FF",
           "#FECB52"
          ],
          "font": {
           "color": "#2a3f5f"
          },
          "geo": {
           "bgcolor": "white",
           "lakecolor": "white",
           "landcolor": "#E5ECF6",
           "showlakes": true,
           "showland": true,
           "subunitcolor": "white"
          },
          "hoverlabel": {
           "align": "left"
          },
          "hovermode": "closest",
          "mapbox": {
           "style": "light"
          },
          "paper_bgcolor": "white",
          "plot_bgcolor": "#E5ECF6",
          "polar": {
           "angularaxis": {
            "gridcolor": "white",
            "linecolor": "white",
            "ticks": ""
           },
           "bgcolor": "#E5ECF6",
           "radialaxis": {
            "gridcolor": "white",
            "linecolor": "white",
            "ticks": ""
           }
          },
          "scene": {
           "xaxis": {
            "backgroundcolor": "#E5ECF6",
            "gridcolor": "white",
            "gridwidth": 2,
            "linecolor": "white",
            "showbackground": true,
            "ticks": "",
            "zerolinecolor": "white"
           },
           "yaxis": {
            "backgroundcolor": "#E5ECF6",
            "gridcolor": "white",
            "gridwidth": 2,
            "linecolor": "white",
            "showbackground": true,
            "ticks": "",
            "zerolinecolor": "white"
           },
           "zaxis": {
            "backgroundcolor": "#E5ECF6",
            "gridcolor": "white",
            "gridwidth": 2,
            "linecolor": "white",
            "showbackground": true,
            "ticks": "",
            "zerolinecolor": "white"
           }
          },
          "shapedefaults": {
           "line": {
            "color": "#2a3f5f"
           }
          },
          "ternary": {
           "aaxis": {
            "gridcolor": "white",
            "linecolor": "white",
            "ticks": ""
           },
           "baxis": {
            "gridcolor": "white",
            "linecolor": "white",
            "ticks": ""
           },
           "bgcolor": "#E5ECF6",
           "caxis": {
            "gridcolor": "white",
            "linecolor": "white",
            "ticks": ""
           }
          },
          "title": {
           "x": 0.05
          },
          "xaxis": {
           "automargin": true,
           "gridcolor": "white",
           "linecolor": "white",
           "ticks": "",
           "title": {
            "standoff": 15
           },
           "zerolinecolor": "white",
           "zerolinewidth": 2
          },
          "yaxis": {
           "automargin": true,
           "gridcolor": "white",
           "linecolor": "white",
           "ticks": "",
           "title": {
            "standoff": 15
           },
           "zerolinecolor": "white",
           "zerolinewidth": 2
          }
         }
        },
        "title": {
         "text": "Distributions of Simulated Stellar Mass vs. Disc Mass vs. Outer Radius"
        },
        "width": 600
       }
      },
      "text/html": [
       "<div>                            <div id=\"872be5ed-c833-4f80-bace-f6f874e9e427\" class=\"plotly-graph-div\" style=\"height:600px; width:600px;\"></div>            <script type=\"text/javascript\">                require([\"plotly\"], function(Plotly) {                    window.PLOTLYENV=window.PLOTLYENV || {};                                    if (document.getElementById(\"872be5ed-c833-4f80-bace-f6f874e9e427\")) {                    Plotly.newPlot(                        \"872be5ed-c833-4f80-bace-f6f874e9e427\",                        [{\"hovertemplate\":\"Stellar Mass [M\\u2609]=%{x}\\u003cbr\\u003eDisc Mass [M\\u2609]=%{y}\\u003cbr\\u003eOuter Radius [AU]=%{z}\\u003cextra\\u003e\\u003c\\u002fextra\\u003e\",\"legendgroup\":\"\",\"marker\":{\"color\":\"#636efa\",\"symbol\":\"circle\"},\"mode\":\"markers\",\"name\":\"\",\"scene\":\"scene\",\"showlegend\":false,\"x\":[1.9112857515378487,1.1716059114463395,0.9274525789718592,1.0342892788410305,1.06252981299848,0.6819980158790016,0.2453481451266128,1.9821959229563584,0.4519772780991732,0.5578653096873254,1.9744465870105488,1.636396463394603,0.9737204055376798,0.4370771633714392,0.7425052323794465,1.0445194929669892,1.7004333973623262,1.1229498196290733,1.4191471267366538,0.9494290978335772,1.9560889434604016,0.4095251320983426,1.6141119572335587,0.3001495867916649,1.773301813650162,1.4864451210465626,0.436745402994278,1.575300061734389,1.3546048929584775,1.7039707026345658,0.7199320219969365,0.5524108523487288,0.2015917935277888,0.4596523654098647,0.7945166224857985,1.0427257635767209,0.6491393436550742,1.1413860984285549,1.3890008802821814,1.623001229772747,1.932595005190385,0.9688808740694136,0.7452236813762951,0.6902361436402301,1.549485511916237,1.5274576494181795,1.822719362841512,1.3398723400132897,0.5745950821946602,0.9562097395269992,1.098523561715239,1.1928666279527442,1.696951326790358,0.2696825150607189,2.9777844946911625,0.5844278875332486,1.1139934392141984,1.0869720920183077,1.811022961927632,1.9713074321592128,2.051525149871086,1.57343424524838,0.2564268363787247,1.310584737210037,0.9153208768396426,1.1055526318526414,0.9351434795065144,2.019474966698839,1.3232324380798817,0.7593646620496342,0.4633249298761767,0.7581713142217033,1.858294491048268,0.6897334808421487,1.7162646396842454,0.5540474690373127,0.8954576679016939,1.1704680141092287,1.910082429084724,0.6406982086307766,1.8963707371579,1.4237535345150332,1.8351962257833232,1.138872734628798,1.6875313126044182,2.334154624714532,0.5794400893380743,0.4480833741900825,0.884123393262384,1.626377297921402,0.2388285279442047,1.705244606304474,1.8517678872245185,0.4981561577615173,0.2697431581322599,0.8368992079944064,0.6081803630396005,1.1041684536766423],\"y\":[0.1854349989421645,0.0234048319561293,0.0048776026987275,0.0300069190900897,0.0396255728481055,0.0593246880117953,0.0107508665034749,0.0431383354573367,0.0054884298514845,0.0214851518872051,0.0662526362749502,0.0359583071429649,0.0282367976013366,0.0158378950615388,0.0067036408155354,0.0063058884541925,0.0330256650753856,0.0306952995902671,0.0152083056790505,0.0439448289764983,0.0530716457611638,0.0064630313348337,0.0724575269408536,0.0146680893977352,0.0835602150408957,0.0646438283947167,0.0391710597982204,0.0312950622417646,0.0352580776204454,0.0303396035463615,0.0130297254533065,0.0184481132432529,0.0067183555853983,0.0116308630981988,0.0151052985108298,0.0364732744867713,0.0313461171854656,0.045232548729399,0.0631711120161324,0.0753281410438003,0.0717034557552911,0.0134749435173513,0.012161240100485,0.0110530808364224,0.02056991757665,0.0746201167941996,0.0741717081449188,0.0504347134117819,0.0266554575939116,0.0142897681225241,0.0387138180779473,0.0264975112555542,0.0413739085002274,0.0099180610293947,0.1110707394457454,0.0177241621289394,0.0527400775222612,0.0257318011213816,0.0695773153717605,0.0466670479505054,0.089560529938027,0.0461196826910433,0.0032789662957065,0.0202202577279961,0.009914569100526,0.0220687256525964,0.0223744980580671,0.0698945356694769,0.0141533990848318,0.0283149136408506,0.0064663489149745,0.0244031889591767,0.0275781884572517,0.0244555254540155,0.0902887011526012,0.0087396133027721,0.041397525272496,0.0402551369478117,0.0671679566768715,0.0313008697666871,0.0236898809464622,0.0559362496085136,0.0278307567530449,0.0219955813596097,0.0214234747977969,0.0720421451401117,0.0248240885906567,0.0211338778632034,0.0249129026209874,0.0483120407725351,0.0022146448566816,0.0343954789265478,0.0693122302593419,0.0077643101670939,0.0066938710571021,0.022144099224889,0.022528654993736,0.0873306681151783],\"z\":[90.63233020424546,34.663337867357185,60.49083203690531,115.54939173532378,95.07241141953924,64.18622402880571,97.69246926793024,54.037069152435095,39.46521195989983,63.11192523401145,51.12665587638856,98.80628156882906,65.64105758938219,75.88051849084628,65.92190114313951,50.0357015067996,36.57936505916214,61.2717667717975,95.58644777360868,78.93743437797885,82.18521597469409,86.86072387964367,62.75039161525476,92.7003422323601,50.72171860644272,46.86717635968964,63.50807582364138,42.961553179134185,95.67647255789429,65.28266053401302,72.71742848028634,93.58677831598848,59.78439894160803,63.57296279148584,86.93907900246082,38.86912915242654,41.11434004010836,37.70952200564342,81.33521978790831,50.95355200325557,67.62774430970327,47.96834717062442,33.74174834634073,51.61270904190137,74.07622212894842,49.67456042627146,93.24805147746495,51.53606089061228,31.576174324922665,56.12039758670721,88.31765921937455,91.23311931720195,78.22391123891707,69.14223591225542,74.06387327927598,38.49687594680814,51.06907976787391,92.77485858088266,38.003159418060434,69.52426136085698,60.09045032440355,36.339087565926846,63.77233532138126,39.97818634013872,35.91350526311759,70.50647195685913,68.23638447673717,95.36591305788946,77.18558528058952,93.85704296819404,44.426707626453805,61.26678152341669,52.46336378791807,57.11164386401718,83.0973149170078,73.1699447437974,62.30696756702043,62.57263765495964,63.20509385115661,35.284319671537204,89.55849529146734,35.57911319253498,69.2110170799429,83.22001262219636,96.9624123749968,79.40671575923042,31.1239996761017,95.87704834585404,94.20745245733949,89.40531913879136,68.15234438139598,99.11007429083084,96.44192330076037,80.30752619256447,71.80561110948724,53.87276544709739,40.84449778265961,84.23934748306394],\"type\":\"scatter3d\"}],                        {\"template\":{\"data\":{\"histogram2dcontour\":[{\"type\":\"histogram2dcontour\",\"colorbar\":{\"outlinewidth\":0,\"ticks\":\"\"},\"colorscale\":[[0.0,\"#0d0887\"],[0.1111111111111111,\"#46039f\"],[0.2222222222222222,\"#7201a8\"],[0.3333333333333333,\"#9c179e\"],[0.4444444444444444,\"#bd3786\"],[0.5555555555555556,\"#d8576b\"],[0.6666666666666666,\"#ed7953\"],[0.7777777777777778,\"#fb9f3a\"],[0.8888888888888888,\"#fdca26\"],[1.0,\"#f0f921\"]]}],\"choropleth\":[{\"type\":\"choropleth\",\"colorbar\":{\"outlinewidth\":0,\"ticks\":\"\"}}],\"histogram2d\":[{\"type\":\"histogram2d\",\"colorbar\":{\"outlinewidth\":0,\"ticks\":\"\"},\"colorscale\":[[0.0,\"#0d0887\"],[0.1111111111111111,\"#46039f\"],[0.2222222222222222,\"#7201a8\"],[0.3333333333333333,\"#9c179e\"],[0.4444444444444444,\"#bd3786\"],[0.5555555555555556,\"#d8576b\"],[0.6666666666666666,\"#ed7953\"],[0.7777777777777778,\"#fb9f3a\"],[0.8888888888888888,\"#fdca26\"],[1.0,\"#f0f921\"]]}],\"heatmap\":[{\"type\":\"heatmap\",\"colorbar\":{\"outlinewidth\":0,\"ticks\":\"\"},\"colorscale\":[[0.0,\"#0d0887\"],[0.1111111111111111,\"#46039f\"],[0.2222222222222222,\"#7201a8\"],[0.3333333333333333,\"#9c179e\"],[0.4444444444444444,\"#bd3786\"],[0.5555555555555556,\"#d8576b\"],[0.6666666666666666,\"#ed7953\"],[0.7777777777777778,\"#fb9f3a\"],[0.8888888888888888,\"#fdca26\"],[1.0,\"#f0f921\"]]}],\"heatmapgl\":[{\"type\":\"heatmapgl\",\"colorbar\":{\"outlinewidth\":0,\"ticks\":\"\"},\"colorscale\":[[0.0,\"#0d0887\"],[0.1111111111111111,\"#46039f\"],[0.2222222222222222,\"#7201a8\"],[0.3333333333333333,\"#9c179e\"],[0.4444444444444444,\"#bd3786\"],[0.5555555555555556,\"#d8576b\"],[0.6666666666666666,\"#ed7953\"],[0.7777777777777778,\"#fb9f3a\"],[0.8888888888888888,\"#fdca26\"],[1.0,\"#f0f921\"]]}],\"contourcarpet\":[{\"type\":\"contourcarpet\",\"colorbar\":{\"outlinewidth\":0,\"ticks\":\"\"}}],\"contour\":[{\"type\":\"contour\",\"colorbar\":{\"outlinewidth\":0,\"ticks\":\"\"},\"colorscale\":[[0.0,\"#0d0887\"],[0.1111111111111111,\"#46039f\"],[0.2222222222222222,\"#7201a8\"],[0.3333333333333333,\"#9c179e\"],[0.4444444444444444,\"#bd3786\"],[0.5555555555555556,\"#d8576b\"],[0.6666666666666666,\"#ed7953\"],[0.7777777777777778,\"#fb9f3a\"],[0.8888888888888888,\"#fdca26\"],[1.0,\"#f0f921\"]]}],\"surface\":[{\"type\":\"surface\",\"colorbar\":{\"outlinewidth\":0,\"ticks\":\"\"},\"colorscale\":[[0.0,\"#0d0887\"],[0.1111111111111111,\"#46039f\"],[0.2222222222222222,\"#7201a8\"],[0.3333333333333333,\"#9c179e\"],[0.4444444444444444,\"#bd3786\"],[0.5555555555555556,\"#d8576b\"],[0.6666666666666666,\"#ed7953\"],[0.7777777777777778,\"#fb9f3a\"],[0.8888888888888888,\"#fdca26\"],[1.0,\"#f0f921\"]]}],\"mesh3d\":[{\"type\":\"mesh3d\",\"colorbar\":{\"outlinewidth\":0,\"ticks\":\"\"}}],\"scatter\":[{\"fillpattern\":{\"fillmode\":\"overlay\",\"size\":10,\"solidity\":0.2},\"type\":\"scatter\"}],\"parcoords\":[{\"type\":\"parcoords\",\"line\":{\"colorbar\":{\"outlinewidth\":0,\"ticks\":\"\"}}}],\"scatterpolargl\":[{\"type\":\"scatterpolargl\",\"marker\":{\"colorbar\":{\"outlinewidth\":0,\"ticks\":\"\"}}}],\"bar\":[{\"error_x\":{\"color\":\"#2a3f5f\"},\"error_y\":{\"color\":\"#2a3f5f\"},\"marker\":{\"line\":{\"color\":\"#E5ECF6\",\"width\":0.5},\"pattern\":{\"fillmode\":\"overlay\",\"size\":10,\"solidity\":0.2}},\"type\":\"bar\"}],\"scattergeo\":[{\"type\":\"scattergeo\",\"marker\":{\"colorbar\":{\"outlinewidth\":0,\"ticks\":\"\"}}}],\"scatterpolar\":[{\"type\":\"scatterpolar\",\"marker\":{\"colorbar\":{\"outlinewidth\":0,\"ticks\":\"\"}}}],\"histogram\":[{\"marker\":{\"pattern\":{\"fillmode\":\"overlay\",\"size\":10,\"solidity\":0.2}},\"type\":\"histogram\"}],\"scattergl\":[{\"type\":\"scattergl\",\"marker\":{\"colorbar\":{\"outlinewidth\":0,\"ticks\":\"\"}}}],\"scatter3d\":[{\"type\":\"scatter3d\",\"line\":{\"colorbar\":{\"outlinewidth\":0,\"ticks\":\"\"}},\"marker\":{\"colorbar\":{\"outlinewidth\":0,\"ticks\":\"\"}}}],\"scattermapbox\":[{\"type\":\"scattermapbox\",\"marker\":{\"colorbar\":{\"outlinewidth\":0,\"ticks\":\"\"}}}],\"scatterternary\":[{\"type\":\"scatterternary\",\"marker\":{\"colorbar\":{\"outlinewidth\":0,\"ticks\":\"\"}}}],\"scattercarpet\":[{\"type\":\"scattercarpet\",\"marker\":{\"colorbar\":{\"outlinewidth\":0,\"ticks\":\"\"}}}],\"carpet\":[{\"aaxis\":{\"endlinecolor\":\"#2a3f5f\",\"gridcolor\":\"white\",\"linecolor\":\"white\",\"minorgridcolor\":\"white\",\"startlinecolor\":\"#2a3f5f\"},\"baxis\":{\"endlinecolor\":\"#2a3f5f\",\"gridcolor\":\"white\",\"linecolor\":\"white\",\"minorgridcolor\":\"white\",\"startlinecolor\":\"#2a3f5f\"},\"type\":\"carpet\"}],\"table\":[{\"cells\":{\"fill\":{\"color\":\"#EBF0F8\"},\"line\":{\"color\":\"white\"}},\"header\":{\"fill\":{\"color\":\"#C8D4E3\"},\"line\":{\"color\":\"white\"}},\"type\":\"table\"}],\"barpolar\":[{\"marker\":{\"line\":{\"color\":\"#E5ECF6\",\"width\":0.5},\"pattern\":{\"fillmode\":\"overlay\",\"size\":10,\"solidity\":0.2}},\"type\":\"barpolar\"}],\"pie\":[{\"automargin\":true,\"type\":\"pie\"}]},\"layout\":{\"autotypenumbers\":\"strict\",\"colorway\":[\"#636efa\",\"#EF553B\",\"#00cc96\",\"#ab63fa\",\"#FFA15A\",\"#19d3f3\",\"#FF6692\",\"#B6E880\",\"#FF97FF\",\"#FECB52\"],\"font\":{\"color\":\"#2a3f5f\"},\"hovermode\":\"closest\",\"hoverlabel\":{\"align\":\"left\"},\"paper_bgcolor\":\"white\",\"plot_bgcolor\":\"#E5ECF6\",\"polar\":{\"bgcolor\":\"#E5ECF6\",\"angularaxis\":{\"gridcolor\":\"white\",\"linecolor\":\"white\",\"ticks\":\"\"},\"radialaxis\":{\"gridcolor\":\"white\",\"linecolor\":\"white\",\"ticks\":\"\"}},\"ternary\":{\"bgcolor\":\"#E5ECF6\",\"aaxis\":{\"gridcolor\":\"white\",\"linecolor\":\"white\",\"ticks\":\"\"},\"baxis\":{\"gridcolor\":\"white\",\"linecolor\":\"white\",\"ticks\":\"\"},\"caxis\":{\"gridcolor\":\"white\",\"linecolor\":\"white\",\"ticks\":\"\"}},\"coloraxis\":{\"colorbar\":{\"outlinewidth\":0,\"ticks\":\"\"}},\"colorscale\":{\"sequential\":[[0.0,\"#0d0887\"],[0.1111111111111111,\"#46039f\"],[0.2222222222222222,\"#7201a8\"],[0.3333333333333333,\"#9c179e\"],[0.4444444444444444,\"#bd3786\"],[0.5555555555555556,\"#d8576b\"],[0.6666666666666666,\"#ed7953\"],[0.7777777777777778,\"#fb9f3a\"],[0.8888888888888888,\"#fdca26\"],[1.0,\"#f0f921\"]],\"sequentialminus\":[[0.0,\"#0d0887\"],[0.1111111111111111,\"#46039f\"],[0.2222222222222222,\"#7201a8\"],[0.3333333333333333,\"#9c179e\"],[0.4444444444444444,\"#bd3786\"],[0.5555555555555556,\"#d8576b\"],[0.6666666666666666,\"#ed7953\"],[0.7777777777777778,\"#fb9f3a\"],[0.8888888888888888,\"#fdca26\"],[1.0,\"#f0f921\"]],\"diverging\":[[0,\"#8e0152\"],[0.1,\"#c51b7d\"],[0.2,\"#de77ae\"],[0.3,\"#f1b6da\"],[0.4,\"#fde0ef\"],[0.5,\"#f7f7f7\"],[0.6,\"#e6f5d0\"],[0.7,\"#b8e186\"],[0.8,\"#7fbc41\"],[0.9,\"#4d9221\"],[1,\"#276419\"]]},\"xaxis\":{\"gridcolor\":\"white\",\"linecolor\":\"white\",\"ticks\":\"\",\"title\":{\"standoff\":15},\"zerolinecolor\":\"white\",\"automargin\":true,\"zerolinewidth\":2},\"yaxis\":{\"gridcolor\":\"white\",\"linecolor\":\"white\",\"ticks\":\"\",\"title\":{\"standoff\":15},\"zerolinecolor\":\"white\",\"automargin\":true,\"zerolinewidth\":2},\"scene\":{\"xaxis\":{\"backgroundcolor\":\"#E5ECF6\",\"gridcolor\":\"white\",\"linecolor\":\"white\",\"showbackground\":true,\"ticks\":\"\",\"zerolinecolor\":\"white\",\"gridwidth\":2},\"yaxis\":{\"backgroundcolor\":\"#E5ECF6\",\"gridcolor\":\"white\",\"linecolor\":\"white\",\"showbackground\":true,\"ticks\":\"\",\"zerolinecolor\":\"white\",\"gridwidth\":2},\"zaxis\":{\"backgroundcolor\":\"#E5ECF6\",\"gridcolor\":\"white\",\"linecolor\":\"white\",\"showbackground\":true,\"ticks\":\"\",\"zerolinecolor\":\"white\",\"gridwidth\":2}},\"shapedefaults\":{\"line\":{\"color\":\"#2a3f5f\"}},\"annotationdefaults\":{\"arrowcolor\":\"#2a3f5f\",\"arrowhead\":0,\"arrowwidth\":1},\"geo\":{\"bgcolor\":\"white\",\"landcolor\":\"#E5ECF6\",\"subunitcolor\":\"white\",\"showland\":true,\"showlakes\":true,\"lakecolor\":\"white\"},\"title\":{\"x\":0.05},\"mapbox\":{\"style\":\"light\"}}},\"scene\":{\"domain\":{\"x\":[0.0,1.0],\"y\":[0.0,1.0]},\"xaxis\":{\"title\":{\"text\":\"Stellar Mass [M\\u2609]\"}},\"yaxis\":{\"title\":{\"text\":\"Disc Mass [M\\u2609]\"}},\"zaxis\":{\"title\":{\"text\":\"Outer Radius [AU]\"}},\"aspectmode\":\"cube\"},\"legend\":{\"tracegroupgap\":0},\"title\":{\"text\":\"Distributions of Simulated Stellar Mass vs. Disc Mass vs. Outer Radius\"},\"font\":{\"size\":10},\"width\":600,\"height\":600},                        {\"responsive\": true}                    ).then(function(){\n",
       "                            \n",
       "var gd = document.getElementById('872be5ed-c833-4f80-bace-f6f874e9e427');\n",
       "var x = new MutationObserver(function (mutations, observer) {{\n",
       "        var display = window.getComputedStyle(gd).display;\n",
       "        if (!display || display === 'none') {{\n",
       "            console.log([gd, 'removed!']);\n",
       "            Plotly.purge(gd);\n",
       "            observer.disconnect();\n",
       "        }}\n",
       "}});\n",
       "\n",
       "// Listen for the removal of the full notebook cells\n",
       "var notebookContainer = gd.closest('#notebook-container');\n",
       "if (notebookContainer) {{\n",
       "    x.observe(notebookContainer, {childList: true});\n",
       "}}\n",
       "\n",
       "// Listen for the clearing of the current output cell\n",
       "var outputEl = gd.closest('.output');\n",
       "if (outputEl) {{\n",
       "    x.observe(outputEl, {childList: true});\n",
       "}}\n",
       "\n",
       "                        })                };                });            </script>        </div>"
      ]
     },
     "metadata": {},
     "output_type": "display_data"
    }
   ],
   "source": [
    "# Automatically determine the y-axis range based on min and max of 'disc_m'\n",
    "y_min, y_max = df['disc_m'].min(), df['disc_m'].max()\n",
    "\n",
    "# 2D Scatter Plot with auto-scaled y-axis and square plot area\n",
    "fig_2d = px.scatter(df, x='m1', y='disc_m',\n",
    "                    title=\"Distributions of Simulated Stellar Mass vs. Disc Mass\",\n",
    "                    labels={'m1': 'Stellar Mass [M☉]', 'disc_m': 'Disc Mass [M☉]'})\n",
    "fig_2d.update_layout(\n",
    "    yaxis=dict(range=[y_min, y_max]),\n",
    "    width=600, height=600,  # Set plot area to square\n",
    "    font=dict(size=10)       # Decrease font size\n",
    ")\n",
    "fig_2d.show()\n"
   ]
  },
  {
   "cell_type": "code",
   "execution_count": null,
   "metadata": {},
   "outputs": [],
   "source": [
    "\n",
    "# 3D Scatter Plot with square plot area\n",
    "fig_3d = px.scatter_3d(df, x='m1', y='disc_m', z='R_out', \n",
    "                       title=\"Distributions of Simulated Stellar Mass vs. Disc Mass vs. Outer Radius\",\n",
    "                       labels={'m1': 'Stellar Mass [M☉]', 'disc_m': 'Disc Mass [M☉]', 'R_out': 'Outer Radius [AU]'})\n",
    "fig_3d.update_layout(\n",
    "    scene_aspectmode=\"cube\",\n",
    "    width=600, height=600,  # Set plot area to square\n",
    "    font=dict(size=10)       # Decrease font size\n",
    ")\n",
    "fig_3d.show()\n"
   ]
  }
 ],
 "metadata": {
  "kernelspec": {
   "display_name": "AdvLrnEnv",
   "language": "python",
   "name": "python3"
  },
  "language_info": {
   "codemirror_mode": {
    "name": "ipython",
    "version": 3
   },
   "file_extension": ".py",
   "mimetype": "text/x-python",
   "name": "python",
   "nbconvert_exporter": "python",
   "pygments_lexer": "ipython3",
   "version": "3.10.4"
  },
  "orig_nbformat": 4
 },
 "nbformat": 4,
 "nbformat_minor": 2
}
