{
 "cells": [
  {
   "cell_type": "code",
   "execution_count": null,
   "metadata": {},
   "outputs": [],
   "source": [
    "import pandas as pd\n",
    "import ast\n",
    "import re\n",
    "import numpy as np\n",
    "import plotly.express as px\n",
    "import plotly\n",
    "import statsmodels"
   ]
  },
  {
   "cell_type": "markdown",
   "metadata": {},
   "source": [
    "The `.csv` which each simulation is written to contains the following parameters:\n",
    "\n",
    "| m1 | accr1 | J2_body1 | disc_m | R_in | R_out | pindex | qindex | H_R | dust_to_gas | grainsize | graindens | beta_cool | T0 | planets | u_min | simulation_id |\n",
    "|----|-------|----------|--------|------|-------|--------|--------|-----|-------------|-----------|-----------|-----------|----|---------|-------|---------------|"
   ]
  },
  {
   "cell_type": "code",
   "execution_count": null,
   "metadata": {},
   "outputs": [],
   "source": [
    "df = pd.read_csv(\n",
    "    '/scratch/adm61595/adm61595/0_Archive/8_BulkSims3/parameter_database.csv'\n",
    ")"
   ]
  },
  {
   "cell_type": "code",
   "execution_count": null,
   "metadata": {},
   "outputs": [],
   "source": [
    "display(df.head())"
   ]
  },
  {
   "cell_type": "markdown",
   "metadata": {},
   "source": [
    "### Generating a 2D Scatterplot"
   ]
  },
  {
   "cell_type": "code",
   "execution_count": null,
   "metadata": {},
   "outputs": [],
   "source": [
    "# Automatically determine the y-axis range based on min and max of 'disc_m'\n",
    "y_min, y_max = df['disc_m'].min(), df['disc_m'].max()\n",
    "\n",
    "# 2D Scatter Plot with auto-scaled y-axis and square plot area\n",
    "fig_2d = px.scatter(df, x='m1', y='disc_m', \n",
    "                    size='disc_m',\n",
    "                    #marginal_x='violin',\n",
    "                    #marginal_y='violin',\n",
    "                    #trendline='lowess',\n",
    "                    color='n_planets', color_continuous_scale=px.colors.sequential.Viridis,\n",
    "                    title=\"Distributions of Simulated Stellar Mass vs. Disc Mass vs. No. of Planets\",\n",
    "                    labels={'m1': 'Stellar Mass [M☉]', 'disc_m': 'Disc Mass [M☉]'})\n",
    "fig_2d.update_layout(\n",
    "    yaxis=dict(range=[y_min, y_max]),\n",
    "    width=600, height=600,  # Set plot area to square\n",
    "    font=dict(size=11)       # Decrease font size\n",
    ")\n",
    "fig_2d.show()"
   ]
  },
  {
   "cell_type": "markdown",
   "metadata": {},
   "source": [
    "### Generating a 3D Scatterplot"
   ]
  },
  {
   "cell_type": "code",
   "execution_count": null,
   "metadata": {},
   "outputs": [],
   "source": [
    "# 3D Scatter Plot with square plot area\n",
    "fig_3d = px.scatter_3d(df, x='m1', y='disc_m', z='R_out', size='disc_m', color='n_planets', color_continuous_scale=px.colors.sequential.algae,\n",
    "                       title=\"Distributions of Simulated Stellar Mass vs. Disc Mass vs. Outer Radius\",\n",
    "                       labels={'m1': 'Stellar Mass [M☉]', 'disc_m': 'Disc Mass [M☉]', 'R_out': 'Outer Radius [AU]'})\n",
    "fig_3d.update_layout(\n",
    "    scene_aspectmode=\"cube\",\n",
    "    width=600, height=600,   # Set plot area to square\n",
    "    font=dict(size=10)       # Decrease font size\n",
    ")\n",
    "#fig_3d.show()"
   ]
  },
  {
   "cell_type": "code",
   "execution_count": null,
   "metadata": {},
   "outputs": [],
   "source": [
    "# 3D Scatter Plot with square plot area\n",
    "fig_3d = px.scatter_3d(df, x='n_planets', y='disc_m', z='R_out', \n",
    "                       color='m1', color_continuous_scale=px.colors.sequential.Viridis,\n",
    "                       title=\"Distributions of Planetary System Count vs. Disc Mass vs. Outer Radius\",\n",
    "                       labels={'n_planets': 'No. of Planets', 'disc_m': 'Disc Mass [M☉]', 'R_out': 'Outer Radius [AU]'})\n",
    "\n",
    "fig_3d.update_traces(marker_size = 8)\n",
    "\n",
    "fig_3d.update_layout(\n",
    "    coloraxis_colorbar=dict(title=\"Central Star Mass [M☉]\"),\n",
    "    scene_aspectmode=\"cube\",\n",
    "    width=700, height=600,          # coordinate cube size\n",
    "    margin=dict(l=50,r=50,b=50,t=80),   # plot borders\n",
    "    font=dict(size=10)       \n",
    ")\n",
    "           \n",
    "fig_3d.show()"
   ]
  },
  {
   "cell_type": "code",
   "execution_count": null,
   "metadata": {},
   "outputs": [],
   "source": [
    "fig_3d = px.scatter_3d(df, x='n_planets', y='m1', z='R_out', color='n_planets', color_continuous_scale=px.colors.sequential.Viridis,\n",
    "                       title=\"Distributions of Planetary System Count vs. Star Mass vs. Outer Radius\",\n",
    "                       labels={'n_planets': 'No. Planets', 'm1': 'Central Star Mass [M☉]', 'R_out': 'Outer Radius [AU]'})\n",
    "fig_3d.update_layout(\n",
    "    scene_aspectmode=\"cube\",\n",
    "    width=600, height=600,   # Set plot area to square\n",
    "    font=dict(size=10)       # Decrease font size\n",
    ")\n",
    "fig_3d.show()"
   ]
  },
  {
   "cell_type": "code",
   "execution_count": null,
   "metadata": {},
   "outputs": [],
   "source": [
    "# 3D Scatter Plot with square plot area\n",
    "fig_3d = px.scatter_3d(df, x='n_planets', y='m1', z='disc_m', color='R_out', color_continuous_scale=px.colors.sequential.Viridis,\n",
    "                       title=\"Planet Counts vs. Star Mass vs. Disc Mass\",\n",
    "                       labels={'n_planets': 'No. Planets', 'm1': 'Central Star Mass [M☉]', 'disc_m': 'Disc Mass [M☉]'})\n",
    "fig_3d.update_layout(\n",
    "    scene_aspectmode=\"cube\",\n",
    "    width=600, height=600,   # Set plot area to square\n",
    "    font=dict(size=10)       # Decrease font size\n",
    ")\n",
    "fig_3d.show()"
   ]
  }
 ],
 "metadata": {
  "kernelspec": {
   "display_name": "AdvLrnEnv",
   "language": "python",
   "name": "python3"
  },
  "language_info": {
   "codemirror_mode": {
    "name": "ipython",
    "version": 3
   },
   "file_extension": ".py",
   "mimetype": "text/x-python",
   "name": "python",
   "nbconvert_exporter": "python",
   "pygments_lexer": "ipython3",
   "version": "3.10.4"
  },
  "orig_nbformat": 4
 },
 "nbformat": 4,
 "nbformat_minor": 2
}
