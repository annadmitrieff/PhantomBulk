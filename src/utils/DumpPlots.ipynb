{
 "cells": [
  {
   "cell_type": "code",
   "execution_count": null,
   "metadata": {},
   "outputs": [],
   "source": [
    "import pandas as pd\n",
    "import ast\n",
    "import re\n",
    "import glob\n",
    "import numpy as np\n",
    "import plotly.express as px\n",
    "import plotly\n",
    "import sarracen\n",
    "import os\n",
    "import k3d\n",
    "import ipywidgets\n",
    "import matplotlib.pyplot as plt"
   ]
  },
  {
   "cell_type": "markdown",
   "metadata": {},
   "source": [
    "Here, we're using [`sarracen`](https://sarracen.readthedocs.io/en/latest/examples/dustydisc.html) for dump file visualization."
   ]
  },
  {
   "cell_type": "markdown",
   "metadata": {},
   "source": [
    "### Importing Dump Files"
   ]
  },
  {
   "cell_type": "code",
   "execution_count": null,
   "metadata": {},
   "outputs": [],
   "source": [
    "# Define the parent directory\n",
    "parent_dir = \"/home/adm61595/CHLab/1_HCA_PPDs/1_Code/1_Notebooks/Exp17/dumpfiles\" # Replace depending on path"
   ]
  },
  {
   "cell_type": "code",
   "execution_count": null,
   "metadata": {},
   "outputs": [],
   "source": [
    "def gatherdumps(parent_dir):\n",
    "    sims = {}      # Dictionary to store indexed sdf files\n",
    "    simsinks = {}  # Dictionary to store indexed sdf_sinks files\n",
    "\n",
    "    # Iterate over all subdirectories in the parent directory\n",
    "    for idx in range(100):  # From 00 to 99\n",
    "        sim_folder = parent_dir\n",
    "        target_file = os.path.join(sim_folder, \"dustysgdisc_00020\")\n",
    "\n",
    "        # Check if the target file exists in the directory\n",
    "        if os.path.isfile(target_file):\n",
    "            # Read the file using sarracen.read_phantom\n",
    "            sdf, sdf_sinks = sarracen.read_phantom(target_file)\n",
    "            \n",
    "            # Store in dictionaries with indexed keys\n",
    "            sims[f\"sdf_{idx}\"] = sdf\n",
    "            simsinks[f\"sdf_sinks_{idx}\"] = sdf_sinks\n",
    "            print(f\"Loaded: {target_file} as sdf_{idx} and sdf_sinks_{idx}\")\n",
    "\n",
    "        else:\n",
    "            print(f\"{target_file} not found in {sim_folder}.\")\n",
    "\n",
    "    return sims, simsinks"
   ]
  },
  {
   "cell_type": "code",
   "execution_count": null,
   "metadata": {},
   "outputs": [],
   "source": [
    "sims, simsinks = gatherdumps(parent_dir)"
   ]
  },
  {
   "cell_type": "markdown",
   "metadata": {},
   "source": [
    "Making each dump file accessible from their individual name:"
   ]
  },
  {
   "cell_type": "code",
   "execution_count": null,
   "metadata": {},
   "outputs": [],
   "source": [
    "sdfs = []\n",
    "sdf_sinks = []\n",
    "\n",
    "for key, sdf in sims.items():\n",
    "    globals()[key] = sdf\n",
    "    sdfs.append(sdf)\n",
    "\n",
    "for key, sdf_sink in simsinks.items():\n",
    "    globals()[key] = sdf_sink\n",
    "    sdf_sinks.append(sdf_sink)"
   ]
  },
  {
   "cell_type": "code",
   "execution_count": null,
   "metadata": {},
   "outputs": [],
   "source": [
    "display(sdf_0)"
   ]
  },
  {
   "cell_type": "markdown",
   "metadata": {},
   "source": [
    "### Visualizing Outputs in 2D"
   ]
  },
  {
   "cell_type": "code",
   "execution_count": null,
   "metadata": {},
   "outputs": [],
   "source": [
    "dimax=200\n"
   ]
  },
  {
   "cell_type": "code",
   "execution_count": null,
   "metadata": {},
   "outputs": [],
   "source": [
    "\n",
    "for idx, sdf in enumerate(sdfs):\n",
    "    plt.figure()  # Create a new figure for each `sdf`\n",
    "    \n",
    "    # Render with logarithmic scaling and automatic color range\n",
    "    sdf.render(\n",
    "        'rho',\n",
    "        xlim=(-dimax, dimax),\n",
    "        ylim=(-dimax, dimax),\n",
    "        xsec=0.0,\n",
    "        cmap='inferno'\n",
    "    )\n",
    "    plt.title(f'SDF Plot {idx + 1}')  # Optional: add title for each plot\n",
    "    plt.show()  # Display the plot"
   ]
  },
  {
   "cell_type": "code",
   "execution_count": null,
   "metadata": {},
   "outputs": [],
   "source": [
    "dimax = 80\n",
    "sdf_39.render('rho', xlim=(-dimax, dimax), ylim=(-dimax, dimax), log_scale=False, xsec=0.0)"
   ]
  },
  {
   "cell_type": "code",
   "execution_count": null,
   "metadata": {},
   "outputs": [],
   "source": [
    "ax = sdf_39.render('rho', xlim=(-dimax, dimax), ylim=(-dimax, dimax), log_scale=False, xsec=0.0)\n",
    "ax.scatter(x=sdf_sinks_39['x'], y=sdf_sinks_39['y'], color='white')"
   ]
  },
  {
   "cell_type": "code",
   "execution_count": null,
   "metadata": {},
   "outputs": [],
   "source": [
    "sdf_39.sph_interpolate('rho')"
   ]
  },
  {
   "cell_type": "markdown",
   "metadata": {},
   "source": [
    "### Visualizing Outputs in 3D with K3D"
   ]
  },
  {
   "cell_type": "markdown",
   "metadata": {},
   "source": [
    "Calculating the density for the gas component:"
   ]
  },
  {
   "cell_type": "code",
   "execution_count": null,
   "metadata": {},
   "outputs": [],
   "source": [
    "sdf_39.calc_density()"
   ]
  },
  {
   "cell_type": "markdown",
   "metadata": {},
   "source": [
    "To extract the positions and densities of the SPH particles:"
   ]
  },
  {
   "cell_type": "code",
   "execution_count": null,
   "metadata": {},
   "outputs": [],
   "source": [
    "gas_39_pos   = np.dstack((sdf_39.x,sdf_39.y,sdf_39.z))\n",
    "sinks_39_pos = np.dstack((sdf_sinks_39.x,sdf_sinks_39.y,sdf_sinks_39.z))"
   ]
  },
  {
   "cell_type": "code",
   "execution_count": null,
   "metadata": {},
   "outputs": [],
   "source": [
    "gas_39_dens = np.log10(sdf_39.rho)"
   ]
  },
  {
   "cell_type": "code",
   "execution_count": null,
   "metadata": {},
   "outputs": [],
   "source": [
    " dens_39_interp = sdf_39.sph_interpolate('rho',\n",
    "                                  x_pixels=200,\n",
    "                                  y_pixels=200,\n",
    "                                  z_pixels=200,\n",
    "                                  xlim=(-300,300),\n",
    "                                  ylim=(-300,300),\n",
    "                                  zlim=(-300,300),\n",
    "                                  )"
   ]
  },
  {
   "cell_type": "code",
   "execution_count": null,
   "metadata": {},
   "outputs": [],
   "source": [
    "gas_39_particles = k3d.points(\n",
    "    gas_39_pos.astype(np.float32),\n",
    "    attribute=gas_39_dens,\n",
    "    name='Gas particles',\n",
    "    shader='3d',\n",
    "    point_size=0.1\n",
    "    )"
   ]
  },
  {
   "cell_type": "code",
   "execution_count": null,
   "metadata": {},
   "outputs": [],
   "source": [
    "sink_39_particles = k3d.points(\n",
    "    sinks_39_pos.astype(np.float32),\n",
    "    name='Sink particles',\n",
    "    shader='3d',\n",
    "    color=0xffffff,\n",
    "    point_size=3,\n",
    "    )"
   ]
  },
  {
   "cell_type": "code",
   "execution_count": null,
   "metadata": {},
   "outputs": [],
   "source": [
    "volume_39 = k3d.volume(\n",
    "    dens_39_interp.astype(np.float32),\n",
    "    name='Gas mesh',\n",
    "    bounds=[-300, 300, -300, 300, -300, 300]\n",
    "    )"
   ]
  },
  {
   "cell_type": "code",
   "execution_count": null,
   "metadata": {},
   "outputs": [],
   "source": [
    "plot = k3d.plot()"
   ]
  },
  {
   "cell_type": "code",
   "execution_count": null,
   "metadata": {},
   "outputs": [],
   "source": [
    "plot += gas_39_particles\n",
    "plot += sink_39_particles\n",
    "plot += volume_39"
   ]
  },
  {
   "cell_type": "code",
   "execution_count": null,
   "metadata": {},
   "outputs": [],
   "source": [
    "plot.background_color = 0x000000\n",
    "plot.grid_visible = False"
   ]
  },
  {
   "cell_type": "markdown",
   "metadata": {},
   "source": [
    "Displaying doesn't work because of some jupyter notebook issue, but we can download and visualize this!"
   ]
  },
  {
   "cell_type": "code",
   "execution_count": null,
   "metadata": {},
   "outputs": [],
   "source": [
    "with open('snapshot.html', 'w') as f:\n",
    "    f.write(plot.get_snapshot())"
   ]
  },
  {
   "cell_type": "markdown",
   "metadata": {},
   "source": [
    "### Visualizing the Orszag-Tang Vortex"
   ]
  },
  {
   "cell_type": "code",
   "execution_count": null,
   "metadata": {},
   "outputs": [],
   "source": [
    "sdf_39.render('rho', xsec=0.0)"
   ]
  },
  {
   "cell_type": "code",
   "execution_count": null,
   "metadata": {},
   "outputs": [],
   "source": [
    "sdf_39.streamlines(('x', 'y', 'z'), xsec=0.0)"
   ]
  },
  {
   "cell_type": "code",
   "execution_count": null,
   "metadata": {},
   "outputs": [],
   "source": [
    "sdf_39['P'] = sdf_39['u'] * sdf_39['rho'] * (sdf_39.params['gamma'] - 1.0)\n",
    "\n",
    "sdf_39.lineplot('P', xlim=(-0.5, 0.5), ylim=-0.1875, zlim=0.0)"
   ]
  }
 ],
 "metadata": {
  "kernelspec": {
   "display_name": "AdvLrnEnv",
   "language": "python",
   "name": "python3"
  },
  "language_info": {
   "codemirror_mode": {
    "name": "ipython",
    "version": 3
   },
   "file_extension": ".py",
   "mimetype": "text/x-python",
   "name": "python",
   "nbconvert_exporter": "python",
   "pygments_lexer": "ipython3",
   "version": "3.10.4"
  },
  "orig_nbformat": 4
 },
 "nbformat": 4,
 "nbformat_minor": 2
}
