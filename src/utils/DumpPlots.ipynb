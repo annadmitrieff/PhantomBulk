{
 "cells": [
  {
   "cell_type": "code",
   "execution_count": 1,
   "metadata": {},
   "outputs": [],
   "source": [
    "import pandas as pd\n",
    "import ast\n",
    "import re\n",
    "import numpy as np\n",
    "import plotly.express as px\n",
    "import plotly\n",
    "import sarracen\n",
    "import os\n",
    "import k3d\n",
    "import ipywidgets\n",
    "import matplotlib.pyplot as plt"
   ]
  },
  {
   "cell_type": "markdown",
   "metadata": {},
   "source": [
    "Here, we're using [`sarracen`](https://sarracen.readthedocs.io/en/latest/examples/dustydisc.html) for dump file visualization."
   ]
  },
  {
   "cell_type": "markdown",
   "metadata": {},
   "source": [
    "### Importing Dump Files"
   ]
  },
  {
   "cell_type": "code",
   "execution_count": 2,
   "metadata": {},
   "outputs": [],
   "source": [
    "# Define the parent directory\n",
    "parent_dir = \"/home/adm61595/runs/5_BulkSims\" # Replace depending on path"
   ]
  },
  {
   "cell_type": "code",
   "execution_count": 3,
   "metadata": {},
   "outputs": [],
   "source": [
    "def gatherdumps(parent_dir):\n",
    "    sims = {}      # Dictionary to store indexed sdf files\n",
    "    simsinks = {}  # Dictionary to store indexed sdf_sinks files\n",
    "\n",
    "    # Iterate over all subdirectories in the parent directory\n",
    "    for idx in range(100):  # From 00 to 99\n",
    "        sim_folder = os.path.join(parent_dir, f\"sim_00{idx:02}\")\n",
    "        target_file = os.path.join(sim_folder, \"dustysgdisc_00020\")\n",
    "\n",
    "        # Check if the target file exists in the directory\n",
    "        if os.path.isfile(target_file):\n",
    "            # Read the file using sarracen.read_phantom\n",
    "            sdf, sdf_sinks = sarracen.read_phantom(target_file)\n",
    "            \n",
    "            # Store in dictionaries with indexed keys\n",
    "            sims[f\"sdf_{idx}\"] = sdf\n",
    "            simsinks[f\"sdf_sinks_{idx}\"] = sdf_sinks\n",
    "            print(f\"Loaded: {target_file} as sdf_{idx} and sdf_sinks_{idx}\")\n",
    "\n",
    "        else:\n",
    "            print(f\"{target_file} not found in {sim_folder}.\")\n",
    "\n",
    "    return sims, simsinks"
   ]
  },
  {
   "cell_type": "code",
   "execution_count": 4,
   "metadata": {},
   "outputs": [
    {
     "name": "stdout",
     "output_type": "stream",
     "text": [
      "Loaded: /home/adm61595/runs/5_BulkSims/sim_0000/dustysgdisc_00020 as sdf_0 and sdf_sinks_0\n",
      "Loaded: /home/adm61595/runs/5_BulkSims/sim_0001/dustysgdisc_00020 as sdf_1 and sdf_sinks_1\n",
      "Loaded: /home/adm61595/runs/5_BulkSims/sim_0002/dustysgdisc_00020 as sdf_2 and sdf_sinks_2\n",
      "Loaded: /home/adm61595/runs/5_BulkSims/sim_0003/dustysgdisc_00020 as sdf_3 and sdf_sinks_3\n",
      "Loaded: /home/adm61595/runs/5_BulkSims/sim_0004/dustysgdisc_00020 as sdf_4 and sdf_sinks_4\n",
      "Loaded: /home/adm61595/runs/5_BulkSims/sim_0005/dustysgdisc_00020 as sdf_5 and sdf_sinks_5\n",
      "Loaded: /home/adm61595/runs/5_BulkSims/sim_0006/dustysgdisc_00020 as sdf_6 and sdf_sinks_6\n",
      "Loaded: /home/adm61595/runs/5_BulkSims/sim_0007/dustysgdisc_00020 as sdf_7 and sdf_sinks_7\n",
      "/home/adm61595/runs/5_BulkSims/sim_0008/dustysgdisc_00020 not found in /home/adm61595/runs/5_BulkSims/sim_0008.\n",
      "Loaded: /home/adm61595/runs/5_BulkSims/sim_0009/dustysgdisc_00020 as sdf_9 and sdf_sinks_9\n",
      "Loaded: /home/adm61595/runs/5_BulkSims/sim_0010/dustysgdisc_00020 as sdf_10 and sdf_sinks_10\n",
      "Loaded: /home/adm61595/runs/5_BulkSims/sim_0011/dustysgdisc_00020 as sdf_11 and sdf_sinks_11\n",
      "Loaded: /home/adm61595/runs/5_BulkSims/sim_0012/dustysgdisc_00020 as sdf_12 and sdf_sinks_12\n",
      "Loaded: /home/adm61595/runs/5_BulkSims/sim_0013/dustysgdisc_00020 as sdf_13 and sdf_sinks_13\n",
      "Loaded: /home/adm61595/runs/5_BulkSims/sim_0014/dustysgdisc_00020 as sdf_14 and sdf_sinks_14\n",
      "Loaded: /home/adm61595/runs/5_BulkSims/sim_0015/dustysgdisc_00020 as sdf_15 and sdf_sinks_15\n",
      "Loaded: /home/adm61595/runs/5_BulkSims/sim_0016/dustysgdisc_00020 as sdf_16 and sdf_sinks_16\n",
      "Loaded: /home/adm61595/runs/5_BulkSims/sim_0017/dustysgdisc_00020 as sdf_17 and sdf_sinks_17\n",
      "Loaded: /home/adm61595/runs/5_BulkSims/sim_0018/dustysgdisc_00020 as sdf_18 and sdf_sinks_18\n",
      "Loaded: /home/adm61595/runs/5_BulkSims/sim_0019/dustysgdisc_00020 as sdf_19 and sdf_sinks_19\n",
      "Loaded: /home/adm61595/runs/5_BulkSims/sim_0020/dustysgdisc_00020 as sdf_20 and sdf_sinks_20\n",
      "Loaded: /home/adm61595/runs/5_BulkSims/sim_0021/dustysgdisc_00020 as sdf_21 and sdf_sinks_21\n",
      "Loaded: /home/adm61595/runs/5_BulkSims/sim_0022/dustysgdisc_00020 as sdf_22 and sdf_sinks_22\n",
      "Loaded: /home/adm61595/runs/5_BulkSims/sim_0023/dustysgdisc_00020 as sdf_23 and sdf_sinks_23\n",
      "Loaded: /home/adm61595/runs/5_BulkSims/sim_0024/dustysgdisc_00020 as sdf_24 and sdf_sinks_24\n",
      "Loaded: /home/adm61595/runs/5_BulkSims/sim_0025/dustysgdisc_00020 as sdf_25 and sdf_sinks_25\n",
      "Loaded: /home/adm61595/runs/5_BulkSims/sim_0026/dustysgdisc_00020 as sdf_26 and sdf_sinks_26\n",
      "Loaded: /home/adm61595/runs/5_BulkSims/sim_0027/dustysgdisc_00020 as sdf_27 and sdf_sinks_27\n",
      "Loaded: /home/adm61595/runs/5_BulkSims/sim_0028/dustysgdisc_00020 as sdf_28 and sdf_sinks_28\n",
      "Loaded: /home/adm61595/runs/5_BulkSims/sim_0029/dustysgdisc_00020 as sdf_29 and sdf_sinks_29\n",
      "Loaded: /home/adm61595/runs/5_BulkSims/sim_0030/dustysgdisc_00020 as sdf_30 and sdf_sinks_30\n",
      "Loaded: /home/adm61595/runs/5_BulkSims/sim_0031/dustysgdisc_00020 as sdf_31 and sdf_sinks_31\n",
      "Loaded: /home/adm61595/runs/5_BulkSims/sim_0032/dustysgdisc_00020 as sdf_32 and sdf_sinks_32\n",
      "Loaded: /home/adm61595/runs/5_BulkSims/sim_0033/dustysgdisc_00020 as sdf_33 and sdf_sinks_33\n",
      "Loaded: /home/adm61595/runs/5_BulkSims/sim_0034/dustysgdisc_00020 as sdf_34 and sdf_sinks_34\n",
      "Loaded: /home/adm61595/runs/5_BulkSims/sim_0035/dustysgdisc_00020 as sdf_35 and sdf_sinks_35\n",
      "Loaded: /home/adm61595/runs/5_BulkSims/sim_0036/dustysgdisc_00020 as sdf_36 and sdf_sinks_36\n",
      "Loaded: /home/adm61595/runs/5_BulkSims/sim_0037/dustysgdisc_00020 as sdf_37 and sdf_sinks_37\n",
      "Loaded: /home/adm61595/runs/5_BulkSims/sim_0038/dustysgdisc_00020 as sdf_38 and sdf_sinks_38\n",
      "Loaded: /home/adm61595/runs/5_BulkSims/sim_0039/dustysgdisc_00020 as sdf_39 and sdf_sinks_39\n",
      "Loaded: /home/adm61595/runs/5_BulkSims/sim_0040/dustysgdisc_00020 as sdf_40 and sdf_sinks_40\n",
      "Loaded: /home/adm61595/runs/5_BulkSims/sim_0041/dustysgdisc_00020 as sdf_41 and sdf_sinks_41\n",
      "Loaded: /home/adm61595/runs/5_BulkSims/sim_0042/dustysgdisc_00020 as sdf_42 and sdf_sinks_42\n",
      "Loaded: /home/adm61595/runs/5_BulkSims/sim_0043/dustysgdisc_00020 as sdf_43 and sdf_sinks_43\n",
      "Loaded: /home/adm61595/runs/5_BulkSims/sim_0044/dustysgdisc_00020 as sdf_44 and sdf_sinks_44\n",
      "Loaded: /home/adm61595/runs/5_BulkSims/sim_0045/dustysgdisc_00020 as sdf_45 and sdf_sinks_45\n",
      "Loaded: /home/adm61595/runs/5_BulkSims/sim_0046/dustysgdisc_00020 as sdf_46 and sdf_sinks_46\n",
      "Loaded: /home/adm61595/runs/5_BulkSims/sim_0047/dustysgdisc_00020 as sdf_47 and sdf_sinks_47\n",
      "Loaded: /home/adm61595/runs/5_BulkSims/sim_0048/dustysgdisc_00020 as sdf_48 and sdf_sinks_48\n",
      "Loaded: /home/adm61595/runs/5_BulkSims/sim_0049/dustysgdisc_00020 as sdf_49 and sdf_sinks_49\n",
      "Loaded: /home/adm61595/runs/5_BulkSims/sim_0050/dustysgdisc_00020 as sdf_50 and sdf_sinks_50\n",
      "Loaded: /home/adm61595/runs/5_BulkSims/sim_0051/dustysgdisc_00020 as sdf_51 and sdf_sinks_51\n",
      "Loaded: /home/adm61595/runs/5_BulkSims/sim_0052/dustysgdisc_00020 as sdf_52 and sdf_sinks_52\n",
      "Loaded: /home/adm61595/runs/5_BulkSims/sim_0053/dustysgdisc_00020 as sdf_53 and sdf_sinks_53\n",
      "Loaded: /home/adm61595/runs/5_BulkSims/sim_0054/dustysgdisc_00020 as sdf_54 and sdf_sinks_54\n",
      "Loaded: /home/adm61595/runs/5_BulkSims/sim_0055/dustysgdisc_00020 as sdf_55 and sdf_sinks_55\n",
      "Loaded: /home/adm61595/runs/5_BulkSims/sim_0056/dustysgdisc_00020 as sdf_56 and sdf_sinks_56\n",
      "Loaded: /home/adm61595/runs/5_BulkSims/sim_0057/dustysgdisc_00020 as sdf_57 and sdf_sinks_57\n",
      "Loaded: /home/adm61595/runs/5_BulkSims/sim_0058/dustysgdisc_00020 as sdf_58 and sdf_sinks_58\n",
      "Loaded: /home/adm61595/runs/5_BulkSims/sim_0059/dustysgdisc_00020 as sdf_59 and sdf_sinks_59\n",
      "Loaded: /home/adm61595/runs/5_BulkSims/sim_0060/dustysgdisc_00020 as sdf_60 and sdf_sinks_60\n",
      "Loaded: /home/adm61595/runs/5_BulkSims/sim_0061/dustysgdisc_00020 as sdf_61 and sdf_sinks_61\n",
      "Loaded: /home/adm61595/runs/5_BulkSims/sim_0062/dustysgdisc_00020 as sdf_62 and sdf_sinks_62\n",
      "Loaded: /home/adm61595/runs/5_BulkSims/sim_0063/dustysgdisc_00020 as sdf_63 and sdf_sinks_63\n",
      "Loaded: /home/adm61595/runs/5_BulkSims/sim_0064/dustysgdisc_00020 as sdf_64 and sdf_sinks_64\n",
      "Loaded: /home/adm61595/runs/5_BulkSims/sim_0065/dustysgdisc_00020 as sdf_65 and sdf_sinks_65\n",
      "Loaded: /home/adm61595/runs/5_BulkSims/sim_0066/dustysgdisc_00020 as sdf_66 and sdf_sinks_66\n",
      "Loaded: /home/adm61595/runs/5_BulkSims/sim_0067/dustysgdisc_00020 as sdf_67 and sdf_sinks_67\n",
      "Loaded: /home/adm61595/runs/5_BulkSims/sim_0068/dustysgdisc_00020 as sdf_68 and sdf_sinks_68\n",
      "Loaded: /home/adm61595/runs/5_BulkSims/sim_0069/dustysgdisc_00020 as sdf_69 and sdf_sinks_69\n",
      "Loaded: /home/adm61595/runs/5_BulkSims/sim_0070/dustysgdisc_00020 as sdf_70 and sdf_sinks_70\n",
      "Loaded: /home/adm61595/runs/5_BulkSims/sim_0071/dustysgdisc_00020 as sdf_71 and sdf_sinks_71\n",
      "Loaded: /home/adm61595/runs/5_BulkSims/sim_0072/dustysgdisc_00020 as sdf_72 and sdf_sinks_72\n",
      "Loaded: /home/adm61595/runs/5_BulkSims/sim_0073/dustysgdisc_00020 as sdf_73 and sdf_sinks_73\n",
      "Loaded: /home/adm61595/runs/5_BulkSims/sim_0074/dustysgdisc_00020 as sdf_74 and sdf_sinks_74\n",
      "Loaded: /home/adm61595/runs/5_BulkSims/sim_0075/dustysgdisc_00020 as sdf_75 and sdf_sinks_75\n",
      "Loaded: /home/adm61595/runs/5_BulkSims/sim_0076/dustysgdisc_00020 as sdf_76 and sdf_sinks_76\n",
      "Loaded: /home/adm61595/runs/5_BulkSims/sim_0077/dustysgdisc_00020 as sdf_77 and sdf_sinks_77\n",
      "Loaded: /home/adm61595/runs/5_BulkSims/sim_0078/dustysgdisc_00020 as sdf_78 and sdf_sinks_78\n",
      "Loaded: /home/adm61595/runs/5_BulkSims/sim_0079/dustysgdisc_00020 as sdf_79 and sdf_sinks_79\n",
      "Loaded: /home/adm61595/runs/5_BulkSims/sim_0080/dustysgdisc_00020 as sdf_80 and sdf_sinks_80\n",
      "Loaded: /home/adm61595/runs/5_BulkSims/sim_0081/dustysgdisc_00020 as sdf_81 and sdf_sinks_81\n",
      "Loaded: /home/adm61595/runs/5_BulkSims/sim_0082/dustysgdisc_00020 as sdf_82 and sdf_sinks_82\n",
      "Loaded: /home/adm61595/runs/5_BulkSims/sim_0083/dustysgdisc_00020 as sdf_83 and sdf_sinks_83\n",
      "Loaded: /home/adm61595/runs/5_BulkSims/sim_0084/dustysgdisc_00020 as sdf_84 and sdf_sinks_84\n",
      "Loaded: /home/adm61595/runs/5_BulkSims/sim_0085/dustysgdisc_00020 as sdf_85 and sdf_sinks_85\n",
      "Loaded: /home/adm61595/runs/5_BulkSims/sim_0086/dustysgdisc_00020 as sdf_86 and sdf_sinks_86\n",
      "Loaded: /home/adm61595/runs/5_BulkSims/sim_0087/dustysgdisc_00020 as sdf_87 and sdf_sinks_87\n",
      "Loaded: /home/adm61595/runs/5_BulkSims/sim_0088/dustysgdisc_00020 as sdf_88 and sdf_sinks_88\n",
      "Loaded: /home/adm61595/runs/5_BulkSims/sim_0089/dustysgdisc_00020 as sdf_89 and sdf_sinks_89\n",
      "Loaded: /home/adm61595/runs/5_BulkSims/sim_0090/dustysgdisc_00020 as sdf_90 and sdf_sinks_90\n",
      "Loaded: /home/adm61595/runs/5_BulkSims/sim_0091/dustysgdisc_00020 as sdf_91 and sdf_sinks_91\n",
      "Loaded: /home/adm61595/runs/5_BulkSims/sim_0092/dustysgdisc_00020 as sdf_92 and sdf_sinks_92\n",
      "Loaded: /home/adm61595/runs/5_BulkSims/sim_0093/dustysgdisc_00020 as sdf_93 and sdf_sinks_93\n",
      "Loaded: /home/adm61595/runs/5_BulkSims/sim_0094/dustysgdisc_00020 as sdf_94 and sdf_sinks_94\n",
      "Loaded: /home/adm61595/runs/5_BulkSims/sim_0095/dustysgdisc_00020 as sdf_95 and sdf_sinks_95\n",
      "Loaded: /home/adm61595/runs/5_BulkSims/sim_0096/dustysgdisc_00020 as sdf_96 and sdf_sinks_96\n",
      "Loaded: /home/adm61595/runs/5_BulkSims/sim_0097/dustysgdisc_00020 as sdf_97 and sdf_sinks_97\n",
      "Loaded: /home/adm61595/runs/5_BulkSims/sim_0098/dustysgdisc_00020 as sdf_98 and sdf_sinks_98\n",
      "Loaded: /home/adm61595/runs/5_BulkSims/sim_0099/dustysgdisc_00020 as sdf_99 and sdf_sinks_99\n"
     ]
    }
   ],
   "source": [
    "sims, simsinks = gatherdumps(parent_dir)"
   ]
  },
  {
   "cell_type": "markdown",
   "metadata": {},
   "source": [
    "Making each dump file accessible from their individual name:"
   ]
  },
  {
   "cell_type": "code",
   "execution_count": 5,
   "metadata": {},
   "outputs": [],
   "source": [
    "sdfs = []\n",
    "sdf_sinks = []\n",
    "\n",
    "for key, sdf in sims.items():\n",
    "    globals()[key] = sdf\n",
    "    sdfs.append(sdf)\n",
    "\n",
    "for key, sdf_sink in simsinks.items():\n",
    "    globals()[key] = sdf_sink\n",
    "    sdf_sinks.append(sdf_sink)"
   ]
  },
  {
   "cell_type": "code",
   "execution_count": null,
   "metadata": {},
   "outputs": [],
   "source": [
    "display(sdf_0)"
   ]
  },
  {
   "cell_type": "markdown",
   "metadata": {},
   "source": [
    "### Visualizing Outputs in 2D"
   ]
  },
  {
   "cell_type": "code",
   "execution_count": 6,
   "metadata": {},
   "outputs": [],
   "source": [
    "dimax=200\n"
   ]
  },
  {
   "cell_type": "code",
   "execution_count": null,
   "metadata": {},
   "outputs": [],
   "source": [
    "\n",
    "for idx, sdf in enumerate(sdfs):\n",
    "    plt.figure()  # Create a new figure for each `sdf`\n",
    "    \n",
    "    # Render with logarithmic scaling and automatic color range\n",
    "    sdf.render(\n",
    "        'rho',\n",
    "        xlim=(-dimax, dimax),\n",
    "        ylim=(-dimax, dimax),\n",
    "        xsec=0.0,\n",
    "        cmap='inferno'\n",
    "    )\n",
    "    plt.title(f'SDF Plot {idx + 1}')  # Optional: add title for each plot\n",
    "    plt.show()  # Display the plot"
   ]
  },
  {
   "cell_type": "code",
   "execution_count": null,
   "metadata": {},
   "outputs": [],
   "source": [
    "dimax = 80\n",
    "sdf_39.render('rho', xlim=(-dimax, dimax), ylim=(-dimax, dimax), log_scale=False, xsec=0.0)"
   ]
  },
  {
   "cell_type": "code",
   "execution_count": null,
   "metadata": {},
   "outputs": [],
   "source": [
    "ax = sdf_39.render('rho', xlim=(-dimax, dimax), ylim=(-dimax, dimax), log_scale=False, xsec=0.0)\n",
    "ax.scatter(x=sdf_sinks_39['x'], y=sdf_sinks_39['y'], color='white')"
   ]
  },
  {
   "cell_type": "code",
   "execution_count": 7,
   "metadata": {},
   "outputs": [
    {
     "data": {
      "text/plain": [
       "array([[[4.62147235e-19, 5.02048448e-19, 5.44104839e-19, ...,\n",
       "         0.00000000e+00, 0.00000000e+00, 0.00000000e+00],\n",
       "        [4.79716537e-19, 5.20684352e-19, 5.63841414e-19, ...,\n",
       "         0.00000000e+00, 0.00000000e+00, 0.00000000e+00],\n",
       "        [4.97521725e-19, 5.39560047e-19, 5.83821552e-19, ...,\n",
       "         0.00000000e+00, 0.00000000e+00, 0.00000000e+00],\n",
       "        ...,\n",
       "        [8.76241593e-18, 8.96394130e-18, 9.16693168e-18, ...,\n",
       "         8.39518765e-19, 8.15361849e-19, 7.91484425e-19],\n",
       "        [8.57714440e-18, 8.77539638e-18, 8.97511078e-18, ...,\n",
       "         7.90122034e-19, 7.67346829e-19, 7.44841612e-19],\n",
       "        [8.39575055e-18, 8.59077095e-18, 8.78725053e-18, ...,\n",
       "         7.43105443e-19, 7.21662296e-19, 7.00479421e-19]],\n",
       "\n",
       "       [[4.81385237e-19, 5.22453816e-19, 5.65714849e-19, ...,\n",
       "         0.00000000e+00, 0.00000000e+00, 0.00000000e+00],\n",
       "        [4.99471666e-19, 5.41626610e-19, 5.86008419e-19, ...,\n",
       "         0.00000000e+00, 0.00000000e+00, 0.00000000e+00],\n",
       "        [5.17795907e-19, 5.61041067e-19, 6.06547366e-19, ...,\n",
       "         0.00000000e+00, 0.00000000e+00, 0.00000000e+00],\n",
       "        ...,\n",
       "        [9.04090682e-18, 9.24789783e-18, 9.45637805e-18, ...,\n",
       "         9.04979694e-19, 8.79510192e-19, 8.54319563e-19],\n",
       "        [8.85106521e-18, 9.05470669e-18, 9.25983483e-18, ...,\n",
       "         8.52878223e-19, 8.28835474e-19, 8.05062337e-19],\n",
       "        [8.66516781e-18, 8.86550204e-18, 9.06731972e-18, ...,\n",
       "         8.03225782e-19, 7.80559578e-19, 7.58153516e-19]],\n",
       "\n",
       "       [[5.00951361e-19, 5.43194724e-19, 5.87667740e-19, ...,\n",
       "         0.00000000e+00, 0.00000000e+00, 0.00000000e+00],\n",
       "        [5.19558241e-19, 5.62907718e-19, 6.08521600e-19, ...,\n",
       "         0.00000000e+00, 0.00000000e+00, 0.00000000e+00],\n",
       "        [5.38404809e-19, 5.82864196e-19, 6.29622605e-19, ...,\n",
       "         0.00000000e+00, 0.00000000e+00, 0.00000000e+00],\n",
       "        ...,\n",
       "        [9.32476910e-18, 9.53730567e-18, 9.75135593e-18, ...,\n",
       "         9.73546139e-19, 9.46731236e-19, 9.20194121e-19],\n",
       "        [9.13029340e-18, 9.33940354e-18, 9.55002485e-18, ...,\n",
       "         9.18671166e-19, 8.93328384e-19, 8.68254376e-19],\n",
       "        [8.93982832e-18, 9.14555477e-18, 9.35278920e-18, ...,\n",
       "         8.66314187e-19, 8.42392755e-19, 8.18730876e-19]],\n",
       "\n",
       "       ...,\n",
       "\n",
       "       [[2.90213792e-20, 2.89892259e-20, 2.89249926e-20, ...,\n",
       "         1.38631922e-19, 1.24210685e-19, 1.10811912e-19],\n",
       "        [3.55445606e-20, 3.55076170e-20, 3.54338088e-20, ...,\n",
       "         1.38560604e-19, 1.24144647e-19, 1.10750936e-19],\n",
       "        [4.29658279e-20, 4.29237502e-20, 4.28396796e-20, ...,\n",
       "         1.38418047e-19, 1.24012644e-19, 1.10629056e-19],\n",
       "        ...,\n",
       "        [0.00000000e+00, 0.00000000e+00, 0.00000000e+00, ...,\n",
       "         2.16033905e-18, 2.06037479e-18, 1.96344700e-18],\n",
       "        [0.00000000e+00, 0.00000000e+00, 0.00000000e+00, ...,\n",
       "         2.12438732e-18, 2.02570100e-18, 1.93002329e-18],\n",
       "        [0.00000000e+00, 0.00000000e+00, 0.00000000e+00, ...,\n",
       "         2.08834242e-18, 1.99094130e-18, 1.89652075e-18]],\n",
       "\n",
       "       [[2.51863462e-20, 2.51571633e-20, 2.50988668e-20, ...,\n",
       "         1.30586015e-19, 1.16765215e-19, 1.03942101e-19],\n",
       "        [3.11255103e-20, 3.10917789e-20, 3.10243913e-20, ...,\n",
       "         1.30517623e-19, 1.16701970e-19, 1.03883789e-19],\n",
       "        [3.79200154e-20, 3.78813958e-20, 3.78042376e-20, ...,\n",
       "         1.30380913e-19, 1.16575551e-19, 1.03767232e-19],\n",
       "        ...,\n",
       "        [0.00000000e+00, 0.00000000e+00, 0.00000000e+00, ...,\n",
       "         2.12839570e-18, 2.02956670e-18, 1.93374943e-18],\n",
       "        [0.00000000e+00, 0.00000000e+00, 0.00000000e+00, ...,\n",
       "         2.09285114e-18, 1.99528904e-18, 1.90071103e-18],\n",
       "        [0.00000000e+00, 0.00000000e+00, 0.00000000e+00, ...,\n",
       "         2.05721572e-18, 1.96092771e-18, 1.86759597e-18]],\n",
       "\n",
       "       [[2.16866287e-20, 2.16602807e-20, 2.16076502e-20, ...,\n",
       "         1.22807260e-19, 1.09576794e-19, 9.73192677e-20],\n",
       "        [2.70675083e-20, 2.70368522e-20, 2.69756113e-20, ...,\n",
       "         1.22741744e-19, 1.09516293e-19, 9.72635710e-20],\n",
       "        [3.32611392e-20, 3.32258392e-20, 3.31553162e-20, ...,\n",
       "         1.22610787e-19, 1.09395363e-19, 9.71522441e-20],\n",
       "        ...,\n",
       "        [0.00000000e+00, 0.00000000e+00, 0.00000000e+00, ...,\n",
       "         2.09626074e-18, 1.99857694e-18, 1.90387989e-18],\n",
       "        [0.00000000e+00, 0.00000000e+00, 0.00000000e+00, ...,\n",
       "         2.06112691e-18, 1.96469887e-18, 1.87123015e-18],\n",
       "        [0.00000000e+00, 0.00000000e+00, 0.00000000e+00, ...,\n",
       "         2.02590455e-18, 1.93073939e-18, 1.83850593e-18]]])"
      ]
     },
     "execution_count": 7,
     "metadata": {},
     "output_type": "execute_result"
    },
    {
     "ename": "",
     "evalue": "",
     "output_type": "error",
     "traceback": [
      "\u001b[1;31mThe Kernel crashed while executing code in the the current cell or a previous cell. Please review the code in the cell(s) to identify a possible cause of the failure. Click <a href='https://aka.ms/vscodeJupyterKernelCrash'>here</a> for more info. View Jupyter <a href='command:jupyter.viewOutput'>log</a> for further details."
     ]
    }
   ],
   "source": [
    "sdf_39.sph_interpolate('rho')"
   ]
  },
  {
   "cell_type": "markdown",
   "metadata": {},
   "source": [
    "### Visualizing Outputs in 3D with K3D"
   ]
  },
  {
   "cell_type": "markdown",
   "metadata": {},
   "source": [
    "Calculating the density for the gas component:"
   ]
  },
  {
   "cell_type": "code",
   "execution_count": null,
   "metadata": {},
   "outputs": [],
   "source": [
    "sdf_39.calc_density()"
   ]
  },
  {
   "cell_type": "markdown",
   "metadata": {},
   "source": [
    "To extract the positions and densities of the SPH particles:"
   ]
  },
  {
   "cell_type": "code",
   "execution_count": null,
   "metadata": {},
   "outputs": [],
   "source": [
    "gas_39_pos   = np.dstack((sdf_39.x,sdf_39.y,sdf_39.z))\n",
    "sinks_39_pos = np.dstack((sdf_sinks_39.x,sdf_sinks_39.y,sdf_sinks_39.z))"
   ]
  },
  {
   "cell_type": "code",
   "execution_count": null,
   "metadata": {},
   "outputs": [],
   "source": [
    "gas_39_dens = np.log10(sdf_39.rho)"
   ]
  },
  {
   "cell_type": "code",
   "execution_count": null,
   "metadata": {},
   "outputs": [],
   "source": [
    " dens_39_interp = sdf_39.sph_interpolate('rho',\n",
    "                                  x_pixels=200,\n",
    "                                  y_pixels=200,\n",
    "                                  z_pixels=200,\n",
    "                                  xlim=(-300,300),\n",
    "                                  ylim=(-300,300),\n",
    "                                  zlim=(-300,300),\n",
    "                                  )"
   ]
  },
  {
   "cell_type": "code",
   "execution_count": null,
   "metadata": {},
   "outputs": [],
   "source": [
    "gas_39_particles = k3d.points(\n",
    "    gas_39_pos.astype(np.float32),\n",
    "    attribute=gas_39_dens,\n",
    "    name='Gas particles',\n",
    "    shader='3d',\n",
    "    point_size=0.1\n",
    "    )"
   ]
  },
  {
   "cell_type": "code",
   "execution_count": null,
   "metadata": {},
   "outputs": [],
   "source": [
    "sink_39_particles = k3d.points(\n",
    "    sinks_39_pos.astype(np.float32),\n",
    "    name='Sink particles',\n",
    "    shader='3d',\n",
    "    color=0xffffff,\n",
    "    point_size=3,\n",
    "    )"
   ]
  },
  {
   "cell_type": "code",
   "execution_count": null,
   "metadata": {},
   "outputs": [],
   "source": [
    "volume_39 = k3d.volume(\n",
    "    dens_39_interp.astype(np.float32),\n",
    "    name='Gas mesh',\n",
    "    bounds=[-300, 300, -300, 300, -300, 300]\n",
    "    )"
   ]
  },
  {
   "cell_type": "code",
   "execution_count": null,
   "metadata": {},
   "outputs": [],
   "source": [
    "plot = k3d.plot()"
   ]
  },
  {
   "cell_type": "code",
   "execution_count": null,
   "metadata": {},
   "outputs": [],
   "source": [
    "plot += gas_39_particles\n",
    "plot += sink_39_particles\n",
    "plot += volume_39"
   ]
  },
  {
   "cell_type": "code",
   "execution_count": null,
   "metadata": {},
   "outputs": [],
   "source": [
    "plot.background_color = 0x000000\n",
    "plot.grid_visible = False"
   ]
  },
  {
   "cell_type": "markdown",
   "metadata": {},
   "source": [
    "Displaying doesn't work because of some jupyter notebook issue, but we can download and visualize this!"
   ]
  },
  {
   "cell_type": "code",
   "execution_count": null,
   "metadata": {},
   "outputs": [],
   "source": [
    "with open('snapshot.html', 'w') as f:\n",
    "    f.write(plot.get_snapshot())"
   ]
  },
  {
   "cell_type": "markdown",
   "metadata": {},
   "source": [
    "### Visualizing the Orszag-Tang Vortex"
   ]
  },
  {
   "cell_type": "code",
   "execution_count": null,
   "metadata": {},
   "outputs": [],
   "source": [
    "sdf_39.render('rho', xsec=0.0)"
   ]
  },
  {
   "cell_type": "code",
   "execution_count": null,
   "metadata": {},
   "outputs": [],
   "source": [
    "sdf_39.streamlines(('x', 'y', 'z'), xsec=0.0)"
   ]
  },
  {
   "cell_type": "code",
   "execution_count": null,
   "metadata": {},
   "outputs": [],
   "source": [
    "sdf_39['P'] = sdf_39['u'] * sdf_39['rho'] * (sdf_39.params['gamma'] - 1.0)\n",
    "\n",
    "sdf_39.lineplot('P', xlim=(-0.5, 0.5), ylim=-0.1875, zlim=0.0)"
   ]
  }
 ],
 "metadata": {
  "kernelspec": {
   "display_name": "AdvLrnEnv",
   "language": "python",
   "name": "python3"
  },
  "language_info": {
   "codemirror_mode": {
    "name": "ipython",
    "version": 3
   },
   "file_extension": ".py",
   "mimetype": "text/x-python",
   "name": "python",
   "nbconvert_exporter": "python",
   "pygments_lexer": "ipython3",
   "version": "3.10.4"
  },
  "orig_nbformat": 4
 },
 "nbformat": 4,
 "nbformat_minor": 2
}
